{
 "cells": [
  {
   "cell_type": "markdown",
   "metadata": {},
   "source": [
    "# QCTO - Workplace Module\n",
    "\n",
    "### Project Title: Mapping Global Prosperity by Analyzing Development Indicators for a More Equitable Future\n",
    "\n",
    "\n",
    "\n",
    "\n",
    "\n",
    "\n",
    "\n",
    "#### Done By: Thabisile Xaba\n",
    "\n",
    "© ExploreAI 2024\n",
    "\n",
    "---\n",
    "\n",
    "## Table of Contents\n",
    "\n",
    "<a href=#BC> Background Context</a>\n",
    "\n",
    "<a href=#one>1. Importing Packages</a>\n",
    "\n",
    "<a href=#two>2. Data Collection and Description</a>\n",
    "\n",
    "<a href=#three>3. Loading Data </a>\n",
    "\n",
    "<a href=#four>4. Data Cleaning and Filtering</a>\n",
    "\n",
    "<a href=#five>5. Exploratory Data Analysis (EDA)</a>\n",
    "\n",
    "<a href=#six>6. Modeling </a>\n",
    "\n",
    "<a href=#seven>7. Evaluation and Validation</a>\n",
    "\n",
    "<a href=#eight>8. Final Model</a>\n",
    "\n",
    "<a href=#nine>9. Conclusion and Future Work</a>\n",
    "\n",
    "<a href=#ten>10. References</a>"
   ]
  },
  {
   "cell_type": "markdown",
   "metadata": {},
   "source": [
    "---\n",
    " <a id=\"BC\"></a>\n",
    "## **Background Context**\n",
    "<a href=#cont>Back to Table of Contents</a>\n",
    "\n",
    "* **Purpose:** \n",
    "\n",
    "This project aims to identify trends and discrepancies in prosperity by analyzing and classifying countries according to important development indices. The project's goal is to map these differences in order to offer insights that can direct international efforts toward promoting a more prosperous and fair future for all countries. It aims to pinpoint problem areas, draw attention to achievements, and provide evidence-based suggestions for sustainable development and policy formulation.\n",
    "\n",
    "\n",
    "* **Questions we need to answer in order to solve this issue:**\n",
    "1. Are we making any progress when it comes to the improvement of challenges faced by humanity?\n",
    "2. If we are, when can we expect them to be met?\n",
    "3. Which countries are making the fastest progress and which are not?\n",
    "4. How can we ensure that all countries are moving at the same rate in terms of progress?\n",
    "\n",
    "* **Background Information:**\n",
    "Numerous social, economic, and environmental factors influence global development, resulting in notable differences in wealth between countries. While some nations have quickly developed, others still face challenges including political instability, poverty, and inequality. Important development metrics, such as access to electricity, which is crucial for economic growth, and education, are useful for evaluating and comparing progress made globally. This study looks at these metrics to find trends and classify countries according to their level of development. The knowledge acquired can direct international initiatives to support more sustainable and equitable development.\n",
    "\n"
   ]
  },
  {
   "cell_type": "markdown",
   "metadata": {},
   "source": [
    "---\n",
    "<a href=#one></a>\n",
    "## **Importing Packages**\n",
    "<a href=#cont>Back to Table of Contents</a>\n",
    "\n",
    "* **Purpose:** Set up the Python environment with necessary libraries and tools.\n",
    "* **Details:** List and import all the Python packages that will be used throughout the project such as Pandas for data manipulation, Matplotlib/Seaborn for visualization, scikit-learn for modeling, etc.\n",
    "---"
   ]
  },
  {
   "cell_type": "code",
   "execution_count": 422,
   "metadata": {},
   "outputs": [],
   "source": [
    "import pandas as pd  # For data manipulation and analysis\n",
    "import numpy as np  # For numerical computations and handling arrays\n",
    "import matplotlib.pyplot as plt  # For plotting and data visualization\n",
    "import seaborn as sns  # For advanced visualizations\n",
    "from sklearn.model_selection import train_test_split, cross_val_score  # For splitting the data and cross-validation\n",
    "from sklearn.preprocessing import StandardScaler  # For scaling the features\n",
    "from sklearn.linear_model import LinearRegression  # For linear regression modeling\n",
    "from sklearn.ensemble import RandomForestRegressor  # For Random Forest regression modeling\n",
    "from sklearn.metrics import mean_squared_error, mean_absolute_error, r2_score  # For evaluating model performance\n",
    "import re  # For handling and manipulating regular expressions in text\n",
    "import pickle  # For saving and loading machine learning models\n",
    "import mlflow  # For tracking and managing machine learning experiments\n",
    "import mlflow.sklearn  # For logging sklearn models with MLflow\n",
    "import json\n",
    "import plotly.graph_objects as go\n",
    "from plotly.subplots import make_subplots\n",
    "import ephem\n",
    "import geocoder\n",
    "import geopy\n",
    "from scipy.optimize import curve_fit"
   ]
  },
  {
   "cell_type": "markdown",
   "metadata": {},
   "source": [
    "---\n",
    "<a href=#two></a>\n",
    "## **Data Collection and Description**\n",
    "<a href=#cont>Back to Table of Contents</a>\n",
    "\n",
    "* **Purpose:** A ‘global sustainability’ dataset has been put together for the TrueCue Women+Data Hackathon. The dataset tracks the performance of 173 countries against a range of sustainability metrics over a 19-year period.\n",
    "* **Details:** Taken from https://www.kaggle.com/truecue/worldsustainabilitydataset. Static file download from a range of international organisations such as the UN, the World Bank or Our World in Data. The data dictionary workbook contains the source and URL used for each of the columns. The full dataset was prepared by TrueCue.\n"
   ]
  },
  {
   "cell_type": "markdown",
   "metadata": {},
   "source": [
    "---\n",
    "<a href=#three></a>\n",
    "## **Loading Data**\n",
    "<a href=#cont>Back to Table of Contents</a>\n",
    "\n",
    "* **Purpose:** Load the data into the notebook for manipulation and analysis.\n",
    "* **Details:** Show the code used to load the data and display the first few rows to give a sense of what the raw data looks like.\n",
    "---"
   ]
  },
  {
   "cell_type": "code",
   "execution_count": 423,
   "metadata": {},
   "outputs": [],
   "source": [
    "wsd_df = pd.read_csv('WorldSustainabilityDataset.csv')"
   ]
  },
  {
   "cell_type": "markdown",
   "metadata": {},
   "source": [
    "This code loads the data from the `WorldSustainabilityDataset.csv` file into a pandas DataFrame named `wsd_df`, which allows you to work with the data easily in Python."
   ]
  },
  {
   "cell_type": "code",
   "execution_count": 424,
   "metadata": {},
   "outputs": [],
   "source": [
    "df_copy = wsd_df.copy()"
   ]
  },
  {
   "cell_type": "markdown",
   "metadata": {},
   "source": [
    "This code creates a copy of our dataset, named `df_copy` to keep the original safe while making changes. This prevents accidental modifications and allows us to experiment freely without losing the original data."
   ]
  },
  {
   "cell_type": "code",
   "execution_count": 425,
   "metadata": {},
   "outputs": [
    {
     "data": {
      "text/html": [
       "<div>\n",
       "<style scoped>\n",
       "    .dataframe tbody tr th:only-of-type {\n",
       "        vertical-align: middle;\n",
       "    }\n",
       "\n",
       "    .dataframe tbody tr th {\n",
       "        vertical-align: top;\n",
       "    }\n",
       "\n",
       "    .dataframe thead th {\n",
       "        text-align: right;\n",
       "    }\n",
       "</style>\n",
       "<table border=\"1\" class=\"dataframe\">\n",
       "  <thead>\n",
       "    <tr style=\"text-align: right;\">\n",
       "      <th></th>\n",
       "      <th>Country Name</th>\n",
       "      <th>Country Code</th>\n",
       "      <th>Year</th>\n",
       "      <th>Access to electricity (% of population) - EG.ELC.ACCS.ZS</th>\n",
       "      <th>Adjusted net national income per capita (annual % growth) - NY.ADJ.NNTY.PC.KD.ZG</th>\n",
       "      <th>Adjusted net savings, excluding particulate emission damage (% of GNI) - NY.ADJ.SVNX.GN.ZS</th>\n",
       "      <th>Adjusted savings: carbon dioxide damage (% of GNI) - NY.ADJ.DCO2.GN.ZS</th>\n",
       "      <th>Adjusted savings: natural resources depletion (% of GNI) - NY.ADJ.DRES.GN.ZS</th>\n",
       "      <th>Adjusted savings: net forest depletion (% of GNI) - NY.ADJ.DFOR.GN.ZS</th>\n",
       "      <th>Adjusted savings: particulate emission damage (% of GNI) - NY.ADJ.DPEM.GN.ZS</th>\n",
       "      <th>...</th>\n",
       "      <th>Gini index (World Bank estimate) - SI.POV.GINI</th>\n",
       "      <th>Income Classification (World Bank Definition)</th>\n",
       "      <th>Individuals using the Internet (% of population) - IT.NET.USER.ZS</th>\n",
       "      <th>Life expectancy at birth, total (years) - SP.DYN.LE00.IN</th>\n",
       "      <th>Population, total - SP.POP.TOTL</th>\n",
       "      <th>Regime Type (RoW Measure Definition)</th>\n",
       "      <th>Rural population (% of total population) - SP.RUR.TOTL.ZS</th>\n",
       "      <th>Total natural resources rents (% of GDP) - NY.GDP.TOTL.RT.ZS</th>\n",
       "      <th>Urban population (% of total population) - SP.URB.TOTL.IN.ZS</th>\n",
       "      <th>World Regions (UN SDG Definition)</th>\n",
       "    </tr>\n",
       "  </thead>\n",
       "  <tbody>\n",
       "    <tr>\n",
       "      <th>0</th>\n",
       "      <td>Aruba</td>\n",
       "      <td>ABW</td>\n",
       "      <td>2000</td>\n",
       "      <td>91.660398</td>\n",
       "      <td>NaN</td>\n",
       "      <td>15.392211</td>\n",
       "      <td>2.389134</td>\n",
       "      <td>0.000190</td>\n",
       "      <td>0.000190</td>\n",
       "      <td>NaN</td>\n",
       "      <td>...</td>\n",
       "      <td>NaN</td>\n",
       "      <td>High income</td>\n",
       "      <td>NaN</td>\n",
       "      <td>NaN</td>\n",
       "      <td>NaN</td>\n",
       "      <td>NaN</td>\n",
       "      <td>53.283</td>\n",
       "      <td>NaN</td>\n",
       "      <td>NaN</td>\n",
       "      <td>Latin America and Caribbean</td>\n",
       "    </tr>\n",
       "    <tr>\n",
       "      <th>1</th>\n",
       "      <td>Aruba</td>\n",
       "      <td>ABW</td>\n",
       "      <td>2001</td>\n",
       "      <td>100.000000</td>\n",
       "      <td>NaN</td>\n",
       "      <td>11.491930</td>\n",
       "      <td>2.509046</td>\n",
       "      <td>0.000214</td>\n",
       "      <td>0.000214</td>\n",
       "      <td>NaN</td>\n",
       "      <td>...</td>\n",
       "      <td>NaN</td>\n",
       "      <td>High income</td>\n",
       "      <td>17.1</td>\n",
       "      <td>73.853</td>\n",
       "      <td>92892.0</td>\n",
       "      <td>NaN</td>\n",
       "      <td>53.661</td>\n",
       "      <td>0.000712</td>\n",
       "      <td>46.339</td>\n",
       "      <td>Latin America and Caribbean</td>\n",
       "    </tr>\n",
       "    <tr>\n",
       "      <th>2</th>\n",
       "      <td>Aruba</td>\n",
       "      <td>ABW</td>\n",
       "      <td>2002</td>\n",
       "      <td>100.000000</td>\n",
       "      <td>NaN</td>\n",
       "      <td>3.893620</td>\n",
       "      <td>2.721385</td>\n",
       "      <td>0.000223</td>\n",
       "      <td>0.000223</td>\n",
       "      <td>NaN</td>\n",
       "      <td>...</td>\n",
       "      <td>NaN</td>\n",
       "      <td>High income</td>\n",
       "      <td>18.8</td>\n",
       "      <td>73.937</td>\n",
       "      <td>94992.0</td>\n",
       "      <td>NaN</td>\n",
       "      <td>54.028</td>\n",
       "      <td>0.000657</td>\n",
       "      <td>45.972</td>\n",
       "      <td>Latin America and Caribbean</td>\n",
       "    </tr>\n",
       "    <tr>\n",
       "      <th>3</th>\n",
       "      <td>Aruba</td>\n",
       "      <td>ABW</td>\n",
       "      <td>2003</td>\n",
       "      <td>100.000000</td>\n",
       "      <td>NaN</td>\n",
       "      <td>6.713863</td>\n",
       "      <td>2.733676</td>\n",
       "      <td>0.000243</td>\n",
       "      <td>0.000243</td>\n",
       "      <td>NaN</td>\n",
       "      <td>...</td>\n",
       "      <td>NaN</td>\n",
       "      <td>High income</td>\n",
       "      <td>20.8</td>\n",
       "      <td>74.038</td>\n",
       "      <td>97016.0</td>\n",
       "      <td>NaN</td>\n",
       "      <td>54.394</td>\n",
       "      <td>0.000700</td>\n",
       "      <td>45.606</td>\n",
       "      <td>Latin America and Caribbean</td>\n",
       "    </tr>\n",
       "    <tr>\n",
       "      <th>4</th>\n",
       "      <td>Aruba</td>\n",
       "      <td>ABW</td>\n",
       "      <td>2004</td>\n",
       "      <td>100.000000</td>\n",
       "      <td>NaN</td>\n",
       "      <td>9.801576</td>\n",
       "      <td>2.678363</td>\n",
       "      <td>0.000256</td>\n",
       "      <td>0.000256</td>\n",
       "      <td>NaN</td>\n",
       "      <td>...</td>\n",
       "      <td>NaN</td>\n",
       "      <td>High income</td>\n",
       "      <td>23.0</td>\n",
       "      <td>74.156</td>\n",
       "      <td>98744.0</td>\n",
       "      <td>NaN</td>\n",
       "      <td>54.760</td>\n",
       "      <td>0.000685</td>\n",
       "      <td>45.240</td>\n",
       "      <td>Latin America and Caribbean</td>\n",
       "    </tr>\n",
       "  </tbody>\n",
       "</table>\n",
       "<p>5 rows × 54 columns</p>\n",
       "</div>"
      ],
      "text/plain": [
       "  Country Name Country Code  Year  \\\n",
       "0        Aruba          ABW  2000   \n",
       "1        Aruba          ABW  2001   \n",
       "2        Aruba          ABW  2002   \n",
       "3        Aruba          ABW  2003   \n",
       "4        Aruba          ABW  2004   \n",
       "\n",
       "   Access to electricity (% of population) - EG.ELC.ACCS.ZS  \\\n",
       "0                                          91.660398          \n",
       "1                                         100.000000          \n",
       "2                                         100.000000          \n",
       "3                                         100.000000          \n",
       "4                                         100.000000          \n",
       "\n",
       "   Adjusted net national income per capita (annual % growth) - NY.ADJ.NNTY.PC.KD.ZG  \\\n",
       "0                                                NaN                                  \n",
       "1                                                NaN                                  \n",
       "2                                                NaN                                  \n",
       "3                                                NaN                                  \n",
       "4                                                NaN                                  \n",
       "\n",
       "   Adjusted net savings, excluding particulate emission damage (% of GNI) - NY.ADJ.SVNX.GN.ZS  \\\n",
       "0                                          15.392211                                            \n",
       "1                                          11.491930                                            \n",
       "2                                           3.893620                                            \n",
       "3                                           6.713863                                            \n",
       "4                                           9.801576                                            \n",
       "\n",
       "   Adjusted savings: carbon dioxide damage (% of GNI) - NY.ADJ.DCO2.GN.ZS  \\\n",
       "0                                           2.389134                        \n",
       "1                                           2.509046                        \n",
       "2                                           2.721385                        \n",
       "3                                           2.733676                        \n",
       "4                                           2.678363                        \n",
       "\n",
       "   Adjusted savings: natural resources depletion (% of GNI) - NY.ADJ.DRES.GN.ZS  \\\n",
       "0                                           0.000190                              \n",
       "1                                           0.000214                              \n",
       "2                                           0.000223                              \n",
       "3                                           0.000243                              \n",
       "4                                           0.000256                              \n",
       "\n",
       "   Adjusted savings: net forest depletion (% of GNI) - NY.ADJ.DFOR.GN.ZS  \\\n",
       "0                                           0.000190                       \n",
       "1                                           0.000214                       \n",
       "2                                           0.000223                       \n",
       "3                                           0.000243                       \n",
       "4                                           0.000256                       \n",
       "\n",
       "   Adjusted savings: particulate emission damage (% of GNI) - NY.ADJ.DPEM.GN.ZS  \\\n",
       "0                                                NaN                              \n",
       "1                                                NaN                              \n",
       "2                                                NaN                              \n",
       "3                                                NaN                              \n",
       "4                                                NaN                              \n",
       "\n",
       "   ...  Gini index (World Bank estimate) - SI.POV.GINI  \\\n",
       "0  ...                                             NaN   \n",
       "1  ...                                             NaN   \n",
       "2  ...                                             NaN   \n",
       "3  ...                                             NaN   \n",
       "4  ...                                             NaN   \n",
       "\n",
       "   Income Classification (World Bank Definition)  \\\n",
       "0                                    High income   \n",
       "1                                    High income   \n",
       "2                                    High income   \n",
       "3                                    High income   \n",
       "4                                    High income   \n",
       "\n",
       "   Individuals using the Internet (% of population) - IT.NET.USER.ZS  \\\n",
       "0                                                NaN                   \n",
       "1                                               17.1                   \n",
       "2                                               18.8                   \n",
       "3                                               20.8                   \n",
       "4                                               23.0                   \n",
       "\n",
       "   Life expectancy at birth, total (years) - SP.DYN.LE00.IN  \\\n",
       "0                                                NaN          \n",
       "1                                             73.853          \n",
       "2                                             73.937          \n",
       "3                                             74.038          \n",
       "4                                             74.156          \n",
       "\n",
       "   Population, total - SP.POP.TOTL  Regime Type (RoW Measure Definition)  \\\n",
       "0                              NaN                                   NaN   \n",
       "1                          92892.0                                   NaN   \n",
       "2                          94992.0                                   NaN   \n",
       "3                          97016.0                                   NaN   \n",
       "4                          98744.0                                   NaN   \n",
       "\n",
       "   Rural population (% of total population) - SP.RUR.TOTL.ZS  \\\n",
       "0                                             53.283           \n",
       "1                                             53.661           \n",
       "2                                             54.028           \n",
       "3                                             54.394           \n",
       "4                                             54.760           \n",
       "\n",
       "   Total natural resources rents (% of GDP) - NY.GDP.TOTL.RT.ZS  \\\n",
       "0                                                NaN              \n",
       "1                                           0.000712              \n",
       "2                                           0.000657              \n",
       "3                                           0.000700              \n",
       "4                                           0.000685              \n",
       "\n",
       "   Urban population (% of total population) - SP.URB.TOTL.IN.ZS  \\\n",
       "0                                                NaN              \n",
       "1                                             46.339              \n",
       "2                                             45.972              \n",
       "3                                             45.606              \n",
       "4                                             45.240              \n",
       "\n",
       "   World Regions (UN SDG Definition)  \n",
       "0        Latin America and Caribbean  \n",
       "1        Latin America and Caribbean  \n",
       "2        Latin America and Caribbean  \n",
       "3        Latin America and Caribbean  \n",
       "4        Latin America and Caribbean  \n",
       "\n",
       "[5 rows x 54 columns]"
      ]
     },
     "execution_count": 425,
     "metadata": {},
     "output_type": "execute_result"
    }
   ],
   "source": [
    "df_copy.head()"
   ]
  },
  {
   "cell_type": "markdown",
   "metadata": {},
   "source": [
    "This code sets display options to show all rows, columns, and full content of each cell, then displays the first few rows of the `wsd_df` DataFrame."
   ]
  },
  {
   "cell_type": "code",
   "execution_count": 426,
   "metadata": {},
   "outputs": [
    {
     "data": {
      "text/plain": [
       "(3287, 54)"
      ]
     },
     "execution_count": 426,
     "metadata": {},
     "output_type": "execute_result"
    }
   ],
   "source": [
    "df_copy.shape"
   ]
  },
  {
   "cell_type": "code",
   "execution_count": 427,
   "metadata": {},
   "outputs": [
    {
     "name": "stdout",
     "output_type": "stream",
     "text": [
      "Country Name                                                                                       0\n",
      "Country Code                                                                                       0\n",
      "Year                                                                                               0\n",
      "Access to electricity (% of population) - EG.ELC.ACCS.ZS                                          94\n",
      "Adjusted net national income per capita (annual % growth) - NY.ADJ.NNTY.PC.KD.ZG                 721\n",
      "Adjusted net savings, excluding particulate emission damage (% of GNI) - NY.ADJ.SVNX.GN.ZS       659\n",
      "Adjusted savings: carbon dioxide damage (% of GNI) - NY.ADJ.DCO2.GN.ZS                            67\n",
      "Adjusted savings: natural resources depletion (% of GNI) - NY.ADJ.DRES.GN.ZS                     193\n",
      "Adjusted savings: net forest depletion (% of GNI) - NY.ADJ.DFOR.GN.ZS                            176\n",
      "Adjusted savings: particulate emission damage (% of GNI) - NY.ADJ.DPEM.GN.ZS                     188\n",
      "Automated teller machines (ATMs) (per 100,000 adults) - FB.ATM.TOTL.P5                          1002\n",
      "Broad money (% of GDP) - FM.LBL.BMNY.GD.ZS                                                       510\n",
      "Children out of school (% of primary school age) - SE.PRM.UNER.ZS                               1062\n",
      "Compulsory education, duration (years) - SE.COM.DURS                                             308\n",
      "Cost of business start-up procedures, female (% of GNI per capita) - IC.REG.COST.PC.FE.ZS        786\n",
      "Cost of business start-up procedures, male (% of GNI per capita) - IC.REG.COST.PC.MA.ZS          786\n",
      "Exports of goods and services (% of GDP) - NE.EXP.GNFS.ZS                                        169\n",
      "Final consumption expenditure (% of GDP) - NE.CON.TOTL.ZS                                        240\n",
      "GDP (current US$) - NY.GDP.MKTP.CD                                                                41\n",
      "GDP per capita (current US$) - NY.GDP.PCAP.CD                                                     41\n",
      "General government final consumption expenditure (% of GDP) - NE.CON.GOVT.ZS                     256\n",
      "Gross national expenditure (% of GDP) - NE.DAB.TOTL.ZS                                           240\n",
      "Gross savings (% of GDP) - NY.GNS.ICTR.ZS                                                        513\n",
      "Imports of goods and services (% of GDP) - NE.IMP.GNFS.ZS                                        169\n",
      "Inflation, consumer prices (annual %) - FP.CPI.TOTL.ZG                                           204\n",
      "Primary completion rate, total (% of relevant age group) - SE.PRM.CMPT.ZS                       1061\n",
      "Proportion of seats held by women in national parliaments (%) - SG.GEN.PARL.ZS                   225\n",
      "Pupil-teacher ratio, primary - SE.PRM.ENRL.TC.ZS                                                 921\n",
      "Renewable electricity output (% of total electricity output) - EG.ELC.RNEW.ZS                    516\n",
      "Renewable energy consumption (% of total final energy consumption) - EG.FEC.RNEW.ZS                0\n",
      "School enrollment, preprimary (% gross) - SE.PRE.ENRR                                            938\n",
      "School enrollment, primary (% gross) - SE.PRM.ENRR                                               504\n",
      "School enrollment, secondary (% gross) - SE.SEC.ENRR                                             857\n",
      "Trade (% of GDP) - NE.TRD.GNFS.ZS                                                                169\n",
      "Women Business and the Law Index Score (scale 1-100) - SG.LAW.INDX                                76\n",
      "Prevalence of undernourishment (%) - SN_ITK_DEFC - 2.1.1                                        1453\n",
      "Proportion of population below international poverty line (%) - SI_POV_DAY1 - 1.1.1             1983\n",
      "Proportion of population covered by at least a 2G mobile network (%) - IT_MOB_2GNTWK - 9.c.1     938\n",
      "Proportion of population covered by at least a 3G mobile network (%) - IT_MOB_3GNTWK - 9.c.1    1930\n",
      "Proportion of population using basic drinking water services (%) - SP_ACS_BSRVH2O - 1.4.1       1450\n",
      "Unemployment rate, male (%) - SL_TLF_UEM - 8.5.2                                                1480\n",
      "Unemployment rate, women (%) - SL_TLF_UEM - 8.5.2                                               1481\n",
      "Annual production-based emissions of carbon dioxide (CO2), measured in million tonnes              2\n",
      "Continent                                                                                          2\n",
      "Gini index (World Bank estimate) - SI.POV.GINI                                                  1984\n",
      "Income Classification (World Bank Definition)                                                      2\n",
      "Individuals using the Internet (% of population) - IT.NET.USER.ZS                                301\n",
      "Life expectancy at birth, total (years) - SP.DYN.LE00.IN                                         191\n",
      "Population, total - SP.POP.TOTL                                                                  181\n",
      "Regime Type (RoW Measure Definition)                                                             211\n",
      "Rural population (% of total population) - SP.RUR.TOTL.ZS                                          9\n",
      "Total natural resources rents (% of GDP) - NY.GDP.TOTL.RT.ZS                                     234\n",
      "Urban population (% of total population) - SP.URB.TOTL.IN.ZS                                     181\n",
      "World Regions (UN SDG Definition)                                                                  2\n",
      "dtype: int64\n"
     ]
    }
   ],
   "source": [
    "print(df_copy.isnull().sum())"
   ]
  },
  {
   "cell_type": "markdown",
   "metadata": {},
   "source": [
    "---\n",
    "<a href=#four></a>\n",
    "## **Data Cleaning and Filtering**\n",
    "<a href=#cont>Back to Table of Contents</a>\n",
    "\n",
    "* **Purpose:** Prepare the data for analysis by cleaning and filtering.\n",
    "* **Details:** Include steps for handling missing values, removing outliers, correcting errors, and possibly reducing the data (filtering based on certain criteria or features).\n",
    "---"
   ]
  },
  {
   "cell_type": "code",
   "execution_count": 428,
   "metadata": {},
   "outputs": [
    {
     "name": "stdout",
     "output_type": "stream",
     "text": [
      "     Country Name      Continent  Year  \\\n",
      "0           Aruba  North America  2000   \n",
      "1           Aruba  North America  2001   \n",
      "2           Aruba  North America  2002   \n",
      "3           Aruba  North America  2003   \n",
      "4           Aruba  North America  2004   \n",
      "...           ...            ...   ...   \n",
      "3282     Zimbabwe         Africa  2014   \n",
      "3283     Zimbabwe         Africa  2015   \n",
      "3284     Zimbabwe         Africa  2016   \n",
      "3285     Zimbabwe         Africa  2017   \n",
      "3286     Zimbabwe         Africa  2018   \n",
      "\n",
      "      Access to electricity (% of population) - EG.ELC.ACCS.ZS  \\\n",
      "0                                             91.660398          \n",
      "1                                            100.000000          \n",
      "2                                            100.000000          \n",
      "3                                            100.000000          \n",
      "4                                            100.000000          \n",
      "...                                                 ...          \n",
      "3282                                          32.300000          \n",
      "3283                                          33.700000          \n",
      "3284                                          39.676228          \n",
      "3285                                          40.144283          \n",
      "3286                                          40.616360          \n",
      "\n",
      "      Adjusted net national income per capita (annual % growth) - NY.ADJ.NNTY.PC.KD.ZG  \\\n",
      "0                                                   NaN                                  \n",
      "1                                                   NaN                                  \n",
      "2                                                   NaN                                  \n",
      "3                                                   NaN                                  \n",
      "4                                                   NaN                                  \n",
      "...                                                 ...                                  \n",
      "3282                                           0.763955                                  \n",
      "3283                                          10.749009                                  \n",
      "3284                                          -0.716048                                  \n",
      "3285                                          28.172572                                  \n",
      "3286                                          61.556580                                  \n",
      "\n",
      "      GDP per capita (current US$) - NY.GDP.PCAP.CD  \\\n",
      "0                                      20617.750470   \n",
      "1                                      20670.367010   \n",
      "2                                      20436.887130   \n",
      "3                                      20833.976360   \n",
      "4                                      22568.374990   \n",
      "...                                             ...   \n",
      "3282                                    1434.896277   \n",
      "3283                                    1445.069702   \n",
      "3284                                    1464.588957   \n",
      "3285                                    1335.665064   \n",
      "3286                                    1352.162653   \n",
      "\n",
      "      Urban population (% of total population) - SP.URB.TOTL.IN.ZS  \\\n",
      "0                                                   NaN              \n",
      "1                                                46.339              \n",
      "2                                                45.972              \n",
      "3                                                45.606              \n",
      "4                                                45.240              \n",
      "...                                                 ...              \n",
      "3282                                             32.504              \n",
      "3283                                             32.385              \n",
      "3284                                             32.296              \n",
      "3285                                             32.237              \n",
      "3286                                             32.209              \n",
      "\n",
      "      School enrollment, primary (% gross) - SE.PRM.ENRR  \\\n",
      "0                                            110.788178    \n",
      "1                                            109.440964    \n",
      "2                                            111.010834    \n",
      "3                                            109.214302    \n",
      "4                                            110.839050    \n",
      "...                                                 ...    \n",
      "3282                                                NaN    \n",
      "3283                                                NaN    \n",
      "3284                                                NaN    \n",
      "3285                                                NaN    \n",
      "3286                                                NaN    \n",
      "\n",
      "      School enrollment, secondary (% gross) - SE.SEC.ENRR  \\\n",
      "0                                             96.516167      \n",
      "1                                             97.972870      \n",
      "2                                            100.520683      \n",
      "3                                             99.091171      \n",
      "4                                             97.252441      \n",
      "...                                                 ...      \n",
      "3282                                                NaN      \n",
      "3283                                                NaN      \n",
      "3284                                                NaN      \n",
      "3285                                                NaN      \n",
      "3286                                                NaN      \n",
      "\n",
      "      Children out of school (% of primary school age) - SE.PRM.UNER.ZS  \\\n",
      "0                                               1.60268                   \n",
      "1                                               0.32258                   \n",
      "2                                               1.81634                   \n",
      "3                                               3.32156                   \n",
      "4                                               2.17652                   \n",
      "...                                                 ...                   \n",
      "3282                                                NaN                   \n",
      "3283                                                NaN                   \n",
      "3284                                                NaN                   \n",
      "3285                                                NaN                   \n",
      "3286                                                NaN                   \n",
      "\n",
      "      Proportion of seats held by women in national parliaments (%) - SG.GEN.PARL.ZS  \\\n",
      "0                                                   NaN                                \n",
      "1                                                   NaN                                \n",
      "2                                                   NaN                                \n",
      "3                                                   NaN                                \n",
      "4                                                   NaN                                \n",
      "...                                                 ...                                \n",
      "3282                                          31.481481                                \n",
      "3283                                          31.481481                                \n",
      "3284                                          31.481481                                \n",
      "3285                                          32.575758                                \n",
      "3286                                          31.481481                                \n",
      "\n",
      "      Life expectancy at birth, total (years) - SP.DYN.LE00.IN  \\\n",
      "0                                                   NaN          \n",
      "1                                                73.853          \n",
      "2                                                73.937          \n",
      "3                                                74.038          \n",
      "4                                                74.156          \n",
      "...                                                 ...          \n",
      "3282                                             58.410          \n",
      "3283                                             59.534          \n",
      "3284                                             60.294          \n",
      "3285                                             60.812          \n",
      "3286                                             61.195          \n",
      "\n",
      "      Annual production-based emissions of carbon dioxide (CO2), measured in million tonnes  \\\n",
      "0                                                 2.378                                       \n",
      "1                                                 2.407                                       \n",
      "2                                                 2.437                                       \n",
      "3                                                 2.561                                       \n",
      "4                                                 2.616                                       \n",
      "...                                                 ...                                       \n",
      "3282                                             11.973                                       \n",
      "3283                                             12.170                                       \n",
      "3284                                             10.815                                       \n",
      "3285                                             10.247                                       \n",
      "3286                                             11.341                                       \n",
      "\n",
      "      Proportion of population below international poverty line (%) - SI_POV_DAY1 - 1.1.1  \\\n",
      "0                                                   NaN                                     \n",
      "1                                                   NaN                                     \n",
      "2                                                   NaN                                     \n",
      "3                                                   NaN                                     \n",
      "4                                                   NaN                                     \n",
      "...                                                 ...                                     \n",
      "3282                                                NaN                                     \n",
      "3283                                                NaN                                     \n",
      "3284                                                NaN                                     \n",
      "3285                                               33.9                                     \n",
      "3286                                                NaN                                     \n",
      "\n",
      "      Renewable energy consumption (% of total final energy consumption) - EG.FEC.RNEW.ZS  \n",
      "0                                              0.175300                                    \n",
      "1                                              0.180500                                    \n",
      "2                                              0.181400                                    \n",
      "3                                              0.184600                                    \n",
      "4                                              0.187100                                    \n",
      "...                                                 ...                                    \n",
      "3282                                          80.775002                                    \n",
      "3283                                          81.427200                                    \n",
      "3284                                          82.792603                                    \n",
      "3285                                          83.492996                                    \n",
      "3286                                          81.363602                                    \n",
      "\n",
      "[3287 rows x 15 columns]\n"
     ]
    }
   ],
   "source": [
    "# list of original columns to keep based on your analysis\n",
    "original_columns_to_keep = [\n",
    "    'Country Name',\n",
    "    'Continent',\n",
    "    'Year',\n",
    "    'Access to electricity (% of population) - EG.ELC.ACCS.ZS',\n",
    "    'Adjusted net national income per capita (annual % growth) - NY.ADJ.NNTY.PC.KD.ZG',\n",
    "    'GDP per capita (current US$) - NY.GDP.PCAP.CD',  \n",
    "    'Urban population (% of total population) - SP.URB.TOTL.IN.ZS',\n",
    "    'School enrollment, primary (% gross) - SE.PRM.ENRR',\n",
    "    'School enrollment, secondary (% gross) - SE.SEC.ENRR',\n",
    "    'Children out of school (% of primary school age) - SE.PRM.UNER.ZS',\n",
    "    'Proportion of seats held by women in national parliaments (%) - SG.GEN.PARL.ZS',\n",
    "    'Life expectancy at birth, total (years) - SP.DYN.LE00.IN',\n",
    "    'Annual production-based emissions of carbon dioxide (CO2), measured in million tonnes',\n",
    "    'Proportion of population below international poverty line (%) - SI_POV_DAY1 - 1.1.1',\n",
    "    'Renewable energy consumption (% of total final energy consumption) - EG.FEC.RNEW.ZS'\n",
    "]\n",
    "\n",
    "# Filter the original DataFrame to keep only the specified columns\n",
    "filtered_original_df = df_copy.loc[:, original_columns_to_keep]\n",
    "\n",
    "# Display the filtered DataFrame\n",
    "print(filtered_original_df)"
   ]
  },
  {
   "cell_type": "markdown",
   "metadata": {},
   "source": [
    "This code creates a new DataFrame called `filtered_original_df` that contains only the original columns that we will be focusing on."
   ]
  },
  {
   "cell_type": "code",
   "execution_count": 429,
   "metadata": {},
   "outputs": [],
   "source": [
    "# Define the simplified column names mapping\n",
    "simplified_column_names = {\n",
    "    'Country Name': 'Country',\n",
    "    'Continent': 'Continent',\n",
    "    'Year': 'Year',\n",
    "    'Access to electricity (% of population) - EG.ELC.ACCS.ZS': 'Electricity Access (%)',\n",
    "    'Adjusted net national income per capita (annual % growth) - NY.ADJ.NNTY.PC.KD.ZG': 'Income Growth (%)',\n",
    "    'GDP per capita (current US$) - NY.GDP.PCAP.CD': 'GDP per Capita (US$)',\n",
    "    'Urban population (% of total population) - SP.URB.TOTL.IN.ZS': 'Urban Population (%)',\n",
    "    'School enrollment, primary (% gross) - SE.PRM.ENRR': 'Primary School Enrollment (%)',\n",
    "    'School enrollment, secondary (% gross) - SE.SEC.ENRR': 'Secondary School Enrollment (%)',\n",
    "    'Children out of school (% of primary school age) - SE.PRM.UNER.ZS': 'Children Out of School (%)',\n",
    "    'Proportion of seats held by women in national parliaments (%) - SG.GEN.PARL.ZS': 'Women in Parliament (%)',\n",
    "    'Life expectancy at birth, total (years) - SP.DYN.LE00.IN': 'Life Expectancy (Years)',\n",
    "    'Annual production-based emissions of carbon dioxide (CO2), measured in million tonnes': 'CO2 Emissions (MT)',\n",
    "    'Proportion of population below international poverty line (%) - SI_POV_DAY1 - 1.1.1': 'Poverty Rate (%)',\n",
    "    'Renewable energy consumption (% of total final energy consumption) - EG.FEC.RNEW.ZS': 'Renewable Energy (%)'\n",
    "}\n",
    "\n",
    "# Filter the original DataFrame to keep only the specified columns\n",
    "filtered_original_df = df_copy.loc[:, original_columns_to_keep]\n",
    "\n",
    "# Rename the columns in the filtered DataFrame\n",
    "filtered_original_df = filtered_original_df.rename(columns=simplified_column_names)"
   ]
  },
  {
   "cell_type": "markdown",
   "metadata": {},
   "source": [
    "This code creates a dictionary called `simplified_column_names` to map original column names to simpler, more descriptive names."
   ]
  },
  {
   "cell_type": "code",
   "execution_count": 430,
   "metadata": {},
   "outputs": [
    {
     "data": {
      "text/html": [
       "<div>\n",
       "<style scoped>\n",
       "    .dataframe tbody tr th:only-of-type {\n",
       "        vertical-align: middle;\n",
       "    }\n",
       "\n",
       "    .dataframe tbody tr th {\n",
       "        vertical-align: top;\n",
       "    }\n",
       "\n",
       "    .dataframe thead th {\n",
       "        text-align: right;\n",
       "    }\n",
       "</style>\n",
       "<table border=\"1\" class=\"dataframe\">\n",
       "  <thead>\n",
       "    <tr style=\"text-align: right;\">\n",
       "      <th></th>\n",
       "      <th>Country</th>\n",
       "      <th>Continent</th>\n",
       "      <th>Year</th>\n",
       "      <th>Electricity Access (%)</th>\n",
       "      <th>Income Growth (%)</th>\n",
       "      <th>GDP per Capita (US$)</th>\n",
       "      <th>Urban Population (%)</th>\n",
       "      <th>Primary School Enrollment (%)</th>\n",
       "      <th>Secondary School Enrollment (%)</th>\n",
       "      <th>Children Out of School (%)</th>\n",
       "      <th>Women in Parliament (%)</th>\n",
       "      <th>Life Expectancy (Years)</th>\n",
       "      <th>CO2 Emissions (MT)</th>\n",
       "      <th>Poverty Rate (%)</th>\n",
       "      <th>Renewable Energy (%)</th>\n",
       "    </tr>\n",
       "  </thead>\n",
       "  <tbody>\n",
       "    <tr>\n",
       "      <th>0</th>\n",
       "      <td>Aruba</td>\n",
       "      <td>North America</td>\n",
       "      <td>2000</td>\n",
       "      <td>91.660398</td>\n",
       "      <td>NaN</td>\n",
       "      <td>20617.75047</td>\n",
       "      <td>NaN</td>\n",
       "      <td>110.788178</td>\n",
       "      <td>96.516167</td>\n",
       "      <td>1.60268</td>\n",
       "      <td>NaN</td>\n",
       "      <td>NaN</td>\n",
       "      <td>2.378</td>\n",
       "      <td>NaN</td>\n",
       "      <td>0.1753</td>\n",
       "    </tr>\n",
       "    <tr>\n",
       "      <th>1</th>\n",
       "      <td>Aruba</td>\n",
       "      <td>North America</td>\n",
       "      <td>2001</td>\n",
       "      <td>100.000000</td>\n",
       "      <td>NaN</td>\n",
       "      <td>20670.36701</td>\n",
       "      <td>46.339</td>\n",
       "      <td>109.440964</td>\n",
       "      <td>97.972870</td>\n",
       "      <td>0.32258</td>\n",
       "      <td>NaN</td>\n",
       "      <td>73.853</td>\n",
       "      <td>2.407</td>\n",
       "      <td>NaN</td>\n",
       "      <td>0.1805</td>\n",
       "    </tr>\n",
       "    <tr>\n",
       "      <th>2</th>\n",
       "      <td>Aruba</td>\n",
       "      <td>North America</td>\n",
       "      <td>2002</td>\n",
       "      <td>100.000000</td>\n",
       "      <td>NaN</td>\n",
       "      <td>20436.88713</td>\n",
       "      <td>45.972</td>\n",
       "      <td>111.010834</td>\n",
       "      <td>100.520683</td>\n",
       "      <td>1.81634</td>\n",
       "      <td>NaN</td>\n",
       "      <td>73.937</td>\n",
       "      <td>2.437</td>\n",
       "      <td>NaN</td>\n",
       "      <td>0.1814</td>\n",
       "    </tr>\n",
       "    <tr>\n",
       "      <th>3</th>\n",
       "      <td>Aruba</td>\n",
       "      <td>North America</td>\n",
       "      <td>2003</td>\n",
       "      <td>100.000000</td>\n",
       "      <td>NaN</td>\n",
       "      <td>20833.97636</td>\n",
       "      <td>45.606</td>\n",
       "      <td>109.214302</td>\n",
       "      <td>99.091171</td>\n",
       "      <td>3.32156</td>\n",
       "      <td>NaN</td>\n",
       "      <td>74.038</td>\n",
       "      <td>2.561</td>\n",
       "      <td>NaN</td>\n",
       "      <td>0.1846</td>\n",
       "    </tr>\n",
       "    <tr>\n",
       "      <th>4</th>\n",
       "      <td>Aruba</td>\n",
       "      <td>North America</td>\n",
       "      <td>2004</td>\n",
       "      <td>100.000000</td>\n",
       "      <td>NaN</td>\n",
       "      <td>22568.37499</td>\n",
       "      <td>45.240</td>\n",
       "      <td>110.839050</td>\n",
       "      <td>97.252441</td>\n",
       "      <td>2.17652</td>\n",
       "      <td>NaN</td>\n",
       "      <td>74.156</td>\n",
       "      <td>2.616</td>\n",
       "      <td>NaN</td>\n",
       "      <td>0.1871</td>\n",
       "    </tr>\n",
       "  </tbody>\n",
       "</table>\n",
       "</div>"
      ],
      "text/plain": [
       "  Country      Continent  Year  Electricity Access (%)  Income Growth (%)  \\\n",
       "0   Aruba  North America  2000               91.660398                NaN   \n",
       "1   Aruba  North America  2001              100.000000                NaN   \n",
       "2   Aruba  North America  2002              100.000000                NaN   \n",
       "3   Aruba  North America  2003              100.000000                NaN   \n",
       "4   Aruba  North America  2004              100.000000                NaN   \n",
       "\n",
       "   GDP per Capita (US$)  Urban Population (%)  Primary School Enrollment (%)  \\\n",
       "0           20617.75047                   NaN                     110.788178   \n",
       "1           20670.36701                46.339                     109.440964   \n",
       "2           20436.88713                45.972                     111.010834   \n",
       "3           20833.97636                45.606                     109.214302   \n",
       "4           22568.37499                45.240                     110.839050   \n",
       "\n",
       "   Secondary School Enrollment (%)  Children Out of School (%)  \\\n",
       "0                        96.516167                     1.60268   \n",
       "1                        97.972870                     0.32258   \n",
       "2                       100.520683                     1.81634   \n",
       "3                        99.091171                     3.32156   \n",
       "4                        97.252441                     2.17652   \n",
       "\n",
       "   Women in Parliament (%)  Life Expectancy (Years)  CO2 Emissions (MT)  \\\n",
       "0                      NaN                      NaN               2.378   \n",
       "1                      NaN                   73.853               2.407   \n",
       "2                      NaN                   73.937               2.437   \n",
       "3                      NaN                   74.038               2.561   \n",
       "4                      NaN                   74.156               2.616   \n",
       "\n",
       "   Poverty Rate (%)  Renewable Energy (%)  \n",
       "0               NaN                0.1753  \n",
       "1               NaN                0.1805  \n",
       "2               NaN                0.1814  \n",
       "3               NaN                0.1846  \n",
       "4               NaN                0.1871  "
      ]
     },
     "execution_count": 430,
     "metadata": {},
     "output_type": "execute_result"
    }
   ],
   "source": [
    "# Display the renamed filtered DataFrame\n",
    "filtered_original_df.head()"
   ]
  },
  {
   "cell_type": "markdown",
   "metadata": {},
   "source": [
    "This is how our `filtered_original_df` now looks."
   ]
  },
  {
   "cell_type": "code",
   "execution_count": 431,
   "metadata": {},
   "outputs": [
    {
     "data": {
      "text/plain": [
       "(3287, 15)"
      ]
     },
     "execution_count": 431,
     "metadata": {},
     "output_type": "execute_result"
    }
   ],
   "source": [
    "filtered_original_df.shape"
   ]
  },
  {
   "cell_type": "markdown",
   "metadata": {},
   "source": [
    "Our dataset now contains 3287 rows with 15 columns, since we have filtered it to focus only on the columns we'll be using for our analysis."
   ]
  },
  {
   "cell_type": "code",
   "execution_count": 432,
   "metadata": {},
   "outputs": [
    {
     "name": "stdout",
     "output_type": "stream",
     "text": [
      "<class 'pandas.core.frame.DataFrame'>\n",
      "RangeIndex: 3287 entries, 0 to 3286\n",
      "Data columns (total 15 columns):\n",
      " #   Column                           Non-Null Count  Dtype  \n",
      "---  ------                           --------------  -----  \n",
      " 0   Country                          3287 non-null   object \n",
      " 1   Continent                        3285 non-null   object \n",
      " 2   Year                             3287 non-null   int64  \n",
      " 3   Electricity Access (%)           3193 non-null   float64\n",
      " 4   Income Growth (%)                2566 non-null   float64\n",
      " 5   GDP per Capita (US$)             3246 non-null   float64\n",
      " 6   Urban Population (%)             3106 non-null   float64\n",
      " 7   Primary School Enrollment (%)    2783 non-null   float64\n",
      " 8   Secondary School Enrollment (%)  2430 non-null   float64\n",
      " 9   Children Out of School (%)       2225 non-null   float64\n",
      " 10  Women in Parliament (%)          3062 non-null   float64\n",
      " 11  Life Expectancy (Years)          3096 non-null   float64\n",
      " 12  CO2 Emissions (MT)               3285 non-null   float64\n",
      " 13  Poverty Rate (%)                 1304 non-null   float64\n",
      " 14  Renewable Energy (%)             3287 non-null   float64\n",
      "dtypes: float64(12), int64(1), object(2)\n",
      "memory usage: 385.3+ KB\n"
     ]
    }
   ],
   "source": [
    "filtered_original_df.info()"
   ]
  },
  {
   "cell_type": "markdown",
   "metadata": {},
   "source": [
    "The code function `filtered_original_df.info()` provides a summary of the DataFrame, showing the number of rows and columns, column names and data types, non-null counts, and memory usage."
   ]
  },
  {
   "cell_type": "code",
   "execution_count": 433,
   "metadata": {},
   "outputs": [
    {
     "data": {
      "text/plain": [
       "Country                               0\n",
       "Continent                             2\n",
       "Year                                  0\n",
       "Electricity Access (%)               94\n",
       "Income Growth (%)                   721\n",
       "GDP per Capita (US$)                 41\n",
       "Urban Population (%)                181\n",
       "Primary School Enrollment (%)       504\n",
       "Secondary School Enrollment (%)     857\n",
       "Children Out of School (%)         1062\n",
       "Women in Parliament (%)             225\n",
       "Life Expectancy (Years)             191\n",
       "CO2 Emissions (MT)                    2\n",
       "Poverty Rate (%)                   1983\n",
       "Renewable Energy (%)                  0\n",
       "dtype: int64"
      ]
     },
     "execution_count": 433,
     "metadata": {},
     "output_type": "execute_result"
    }
   ],
   "source": [
    "filtered_original_df.isnull().sum()"
   ]
  },
  {
   "cell_type": "markdown",
   "metadata": {},
   "source": [
    "Here we are checking for null values and as you can see, columns like `Children Out of School(%)`, `Secondary School Enrollment (%)`, `Income Growth (%)` and `Primary School Enrollment (%)` have quite a high number of missing values. We will address this in the next step as it can be detrimental to our analysis."
   ]
  },
  {
   "cell_type": "code",
   "execution_count": 434,
   "metadata": {},
   "outputs": [],
   "source": [
    "# Drop columns that are mostly missing\n",
    "filtered_original_df.dropna(axis=1, thresh=int(0.5 * len(filtered_original_df)), inplace=True)  # Drop columns with more than 50% missing values"
   ]
  },
  {
   "cell_type": "markdown",
   "metadata": {},
   "source": [
    "First we remove columns from `filtered_original_df` that have more than 50% missing values, ensuring better data quality and simplifying the analysis by keeping only relevant features."
   ]
  },
  {
   "cell_type": "code",
   "execution_count": 435,
   "metadata": {},
   "outputs": [
    {
     "data": {
      "text/html": [
       "<div>\n",
       "<style scoped>\n",
       "    .dataframe tbody tr th:only-of-type {\n",
       "        vertical-align: middle;\n",
       "    }\n",
       "\n",
       "    .dataframe tbody tr th {\n",
       "        vertical-align: top;\n",
       "    }\n",
       "\n",
       "    .dataframe thead th {\n",
       "        text-align: right;\n",
       "    }\n",
       "</style>\n",
       "<table border=\"1\" class=\"dataframe\">\n",
       "  <thead>\n",
       "    <tr style=\"text-align: right;\">\n",
       "      <th></th>\n",
       "      <th>Year</th>\n",
       "      <th>Electricity Access (%)</th>\n",
       "      <th>Income Growth (%)</th>\n",
       "      <th>GDP per Capita (US$)</th>\n",
       "      <th>Urban Population (%)</th>\n",
       "      <th>Primary School Enrollment (%)</th>\n",
       "      <th>Secondary School Enrollment (%)</th>\n",
       "      <th>Children Out of School (%)</th>\n",
       "      <th>Women in Parliament (%)</th>\n",
       "      <th>Life Expectancy (Years)</th>\n",
       "      <th>CO2 Emissions (MT)</th>\n",
       "      <th>Renewable Energy (%)</th>\n",
       "    </tr>\n",
       "  </thead>\n",
       "  <tbody>\n",
       "    <tr>\n",
       "      <th>count</th>\n",
       "      <td>3287.000000</td>\n",
       "      <td>3193.000000</td>\n",
       "      <td>2566.000000</td>\n",
       "      <td>3246.000000</td>\n",
       "      <td>3106.000000</td>\n",
       "      <td>2783.000000</td>\n",
       "      <td>2430.000000</td>\n",
       "      <td>2225.000000</td>\n",
       "      <td>3062.000000</td>\n",
       "      <td>3096.000000</td>\n",
       "      <td>3285.000000</td>\n",
       "      <td>3287.000000</td>\n",
       "    </tr>\n",
       "    <tr>\n",
       "      <th>mean</th>\n",
       "      <td>2009.000000</td>\n",
       "      <td>79.300662</td>\n",
       "      <td>2.499857</td>\n",
       "      <td>12305.687624</td>\n",
       "      <td>57.264100</td>\n",
       "      <td>103.491620</td>\n",
       "      <td>81.126732</td>\n",
       "      <td>7.579437</td>\n",
       "      <td>17.976712</td>\n",
       "      <td>70.160098</td>\n",
       "      <td>174.646907</td>\n",
       "      <td>32.672923</td>\n",
       "    </tr>\n",
       "    <tr>\n",
       "      <th>std</th>\n",
       "      <td>5.478059</td>\n",
       "      <td>30.398748</td>\n",
       "      <td>18.752649</td>\n",
       "      <td>17826.520114</td>\n",
       "      <td>22.687638</td>\n",
       "      <td>12.928410</td>\n",
       "      <td>29.023597</td>\n",
       "      <td>11.310325</td>\n",
       "      <td>11.148749</td>\n",
       "      <td>9.205632</td>\n",
       "      <td>757.653194</td>\n",
       "      <td>29.921274</td>\n",
       "    </tr>\n",
       "    <tr>\n",
       "      <th>min</th>\n",
       "      <td>2000.000000</td>\n",
       "      <td>1.270180</td>\n",
       "      <td>-645.655290</td>\n",
       "      <td>90.532429</td>\n",
       "      <td>8.461000</td>\n",
       "      <td>32.356060</td>\n",
       "      <td>6.197350</td>\n",
       "      <td>0.000000</td>\n",
       "      <td>0.000000</td>\n",
       "      <td>40.369000</td>\n",
       "      <td>0.048000</td>\n",
       "      <td>0.000000</td>\n",
       "    </tr>\n",
       "    <tr>\n",
       "      <th>25%</th>\n",
       "      <td>2004.000000</td>\n",
       "      <td>62.900000</td>\n",
       "      <td>-0.246761</td>\n",
       "      <td>1270.323291</td>\n",
       "      <td>39.546750</td>\n",
       "      <td>98.819946</td>\n",
       "      <td>64.530386</td>\n",
       "      <td>0.770210</td>\n",
       "      <td>9.821429</td>\n",
       "      <td>65.109000</td>\n",
       "      <td>2.426000</td>\n",
       "      <td>6.835400</td>\n",
       "    </tr>\n",
       "    <tr>\n",
       "      <th>50%</th>\n",
       "      <td>2009.000000</td>\n",
       "      <td>98.653969</td>\n",
       "      <td>2.545392</td>\n",
       "      <td>4335.709007</td>\n",
       "      <td>57.450000</td>\n",
       "      <td>102.739548</td>\n",
       "      <td>88.407421</td>\n",
       "      <td>2.972080</td>\n",
       "      <td>16.000000</td>\n",
       "      <td>72.564634</td>\n",
       "      <td>12.621000</td>\n",
       "      <td>22.659800</td>\n",
       "    </tr>\n",
       "    <tr>\n",
       "      <th>75%</th>\n",
       "      <td>2014.000000</td>\n",
       "      <td>100.000000</td>\n",
       "      <td>5.545831</td>\n",
       "      <td>15354.662563</td>\n",
       "      <td>75.372500</td>\n",
       "      <td>109.297989</td>\n",
       "      <td>100.199627</td>\n",
       "      <td>9.117340</td>\n",
       "      <td>24.468085</td>\n",
       "      <td>76.572750</td>\n",
       "      <td>72.012000</td>\n",
       "      <td>54.638100</td>\n",
       "    </tr>\n",
       "    <tr>\n",
       "      <th>max</th>\n",
       "      <td>2018.000000</td>\n",
       "      <td>100.000000</td>\n",
       "      <td>229.493078</td>\n",
       "      <td>118823.648400</td>\n",
       "      <td>100.000000</td>\n",
       "      <td>150.785553</td>\n",
       "      <td>163.934723</td>\n",
       "      <td>73.104568</td>\n",
       "      <td>63.750000</td>\n",
       "      <td>84.934146</td>\n",
       "      <td>9956.569000</td>\n",
       "      <td>98.342903</td>\n",
       "    </tr>\n",
       "  </tbody>\n",
       "</table>\n",
       "</div>"
      ],
      "text/plain": [
       "              Year  Electricity Access (%)  Income Growth (%)  \\\n",
       "count  3287.000000             3193.000000        2566.000000   \n",
       "mean   2009.000000               79.300662           2.499857   \n",
       "std       5.478059               30.398748          18.752649   \n",
       "min    2000.000000                1.270180        -645.655290   \n",
       "25%    2004.000000               62.900000          -0.246761   \n",
       "50%    2009.000000               98.653969           2.545392   \n",
       "75%    2014.000000              100.000000           5.545831   \n",
       "max    2018.000000              100.000000         229.493078   \n",
       "\n",
       "       GDP per Capita (US$)  Urban Population (%)  \\\n",
       "count           3246.000000           3106.000000   \n",
       "mean           12305.687624             57.264100   \n",
       "std            17826.520114             22.687638   \n",
       "min               90.532429              8.461000   \n",
       "25%             1270.323291             39.546750   \n",
       "50%             4335.709007             57.450000   \n",
       "75%            15354.662563             75.372500   \n",
       "max           118823.648400            100.000000   \n",
       "\n",
       "       Primary School Enrollment (%)  Secondary School Enrollment (%)  \\\n",
       "count                    2783.000000                      2430.000000   \n",
       "mean                      103.491620                        81.126732   \n",
       "std                        12.928410                        29.023597   \n",
       "min                        32.356060                         6.197350   \n",
       "25%                        98.819946                        64.530386   \n",
       "50%                       102.739548                        88.407421   \n",
       "75%                       109.297989                       100.199627   \n",
       "max                       150.785553                       163.934723   \n",
       "\n",
       "       Children Out of School (%)  Women in Parliament (%)  \\\n",
       "count                 2225.000000              3062.000000   \n",
       "mean                     7.579437                17.976712   \n",
       "std                     11.310325                11.148749   \n",
       "min                      0.000000                 0.000000   \n",
       "25%                      0.770210                 9.821429   \n",
       "50%                      2.972080                16.000000   \n",
       "75%                      9.117340                24.468085   \n",
       "max                     73.104568                63.750000   \n",
       "\n",
       "       Life Expectancy (Years)  CO2 Emissions (MT)  Renewable Energy (%)  \n",
       "count              3096.000000         3285.000000           3287.000000  \n",
       "mean                 70.160098          174.646907             32.672923  \n",
       "std                   9.205632          757.653194             29.921274  \n",
       "min                  40.369000            0.048000              0.000000  \n",
       "25%                  65.109000            2.426000              6.835400  \n",
       "50%                  72.564634           12.621000             22.659800  \n",
       "75%                  76.572750           72.012000             54.638100  \n",
       "max                  84.934146         9956.569000             98.342903  "
      ]
     },
     "execution_count": 435,
     "metadata": {},
     "output_type": "execute_result"
    }
   ],
   "source": [
    "filtered_original_df.describe()"
   ]
  },
  {
   "cell_type": "markdown",
   "metadata": {},
   "source": [
    "`filtered_original_df.describe()` provides summary statistics (like count, mean, min, max, and percentiles) for the numerical columns, helping us understand our data's distribution and central tendency."
   ]
  },
  {
   "cell_type": "code",
   "execution_count": 436,
   "metadata": {},
   "outputs": [
    {
     "name": "stdout",
     "output_type": "stream",
     "text": [
      "  Country      Continent  Year  Electricity Access (%)  Income Growth (%)  \\\n",
      "0   Aruba  North America  2000               91.660398           2.499857   \n",
      "1   Aruba  North America  2001              100.000000           2.499857   \n",
      "2   Aruba  North America  2002              100.000000           2.499857   \n",
      "3   Aruba  North America  2003              100.000000           2.499857   \n",
      "4   Aruba  North America  2004              100.000000           2.499857   \n",
      "\n",
      "   GDP per Capita (US$)  Urban Population (%)  Primary School Enrollment (%)  \\\n",
      "0           20617.75047               57.2641                     110.788178   \n",
      "1           20670.36701               46.3390                     109.440964   \n",
      "2           20436.88713               45.9720                     111.010834   \n",
      "3           20833.97636               45.6060                     109.214302   \n",
      "4           22568.37499               45.2400                     110.839050   \n",
      "\n",
      "   Secondary School Enrollment (%)  Children Out of School (%)  \\\n",
      "0                        96.516167                     1.60268   \n",
      "1                        97.972870                     0.32258   \n",
      "2                       100.520683                     1.81634   \n",
      "3                        99.091171                     3.32156   \n",
      "4                        97.252441                     2.17652   \n",
      "\n",
      "   Women in Parliament (%)  Life Expectancy (Years)  CO2 Emissions (MT)  \\\n",
      "0                17.976712                70.160098               2.378   \n",
      "1                17.976712                73.853000               2.407   \n",
      "2                17.976712                73.937000               2.437   \n",
      "3                17.976712                74.038000               2.561   \n",
      "4                17.976712                74.156000               2.616   \n",
      "\n",
      "   Renewable Energy (%)  \n",
      "0                0.1753  \n",
      "1                0.1805  \n",
      "2                0.1814  \n",
      "3                0.1846  \n",
      "4                0.1871  \n"
     ]
    }
   ],
   "source": [
    "# Fill NaN values only in numeric columns with the mean of those columns\n",
    "filtered_original_df.fillna(filtered_original_df.select_dtypes(include='number').mean(), inplace=True)\n",
    "\n",
    "# Display the DataFrame to verify the changes\n",
    "print(filtered_original_df.head())\n"
   ]
  },
  {
   "cell_type": "markdown",
   "metadata": {},
   "source": [
    "We then fill NaN values in numeric columns of `filtered_original_df` with the mean of those columns, then display the first few rows to confirm the changes."
   ]
  },
  {
   "cell_type": "code",
   "execution_count": 437,
   "metadata": {},
   "outputs": [
    {
     "name": "stdout",
     "output_type": "stream",
     "text": [
      "Country                            0\n",
      "Continent                          2\n",
      "Year                               0\n",
      "Electricity Access (%)             0\n",
      "Income Growth (%)                  0\n",
      "GDP per Capita (US$)               0\n",
      "Urban Population (%)               0\n",
      "Primary School Enrollment (%)      0\n",
      "Secondary School Enrollment (%)    0\n",
      "Children Out of School (%)         0\n",
      "Women in Parliament (%)            0\n",
      "Life Expectancy (Years)            0\n",
      "CO2 Emissions (MT)                 0\n",
      "Renewable Energy (%)               0\n",
      "dtype: int64\n"
     ]
    }
   ],
   "source": [
    "print(filtered_original_df.isnull().sum())"
   ]
  },
  {
   "cell_type": "markdown",
   "metadata": {},
   "source": [
    "Notice that we still have two missing values but they on a non-numeric column. We will fix this in the next step since it is a column we will be needing."
   ]
  },
  {
   "cell_type": "code",
   "execution_count": 438,
   "metadata": {},
   "outputs": [
    {
     "name": "stdout",
     "output_type": "stream",
     "text": [
      "          Country Continent\n",
      "2945  Timor-Leste       NaN\n",
      "2946  Timor-Leste       NaN\n"
     ]
    }
   ],
   "source": [
    "# Find rows where the 'Continent' column has NaN values\n",
    "missing_continent_rows = filtered_original_df[filtered_original_df['Continent'].isna()]\n",
    "\n",
    "# Display the 'Country' and 'Continent' columns for those rows\n",
    "print(missing_continent_rows[['Country', 'Continent']])\n"
   ]
  },
  {
   "cell_type": "markdown",
   "metadata": {},
   "source": [
    "First we find out the country name of the missing continent names and they are displayed above."
   ]
  },
  {
   "cell_type": "code",
   "execution_count": 439,
   "metadata": {},
   "outputs": [
    {
     "name": "stdout",
     "output_type": "stream",
     "text": [
      "          Country Continent  Year  Electricity Access (%)  Income Growth (%)  \\\n",
      "2945  Timor-Leste      Asia  2000               79.300662           2.499857   \n",
      "2946  Timor-Leste      Asia  2001               25.600000          15.268206   \n",
      "2947  Timor-Leste      Asia  2002               23.925289          11.968659   \n",
      "2948  Timor-Leste      Asia  2003               27.700000         -15.564538   \n",
      "2949  Timor-Leste      Asia  2004               30.750410           2.499857   \n",
      "2950  Timor-Leste      Asia  2005               34.145988           2.499857   \n",
      "2951  Timor-Leste      Asia  2006               37.532433           2.499857   \n",
      "2952  Timor-Leste      Asia  2007               36.600000           2.499857   \n",
      "2953  Timor-Leste      Asia  2008               44.302406           2.499857   \n",
      "2954  Timor-Leste      Asia  2009               47.698406           2.499857   \n",
      "2955  Timor-Leste      Asia  2010               38.000000           2.499857   \n",
      "2956  Timor-Leste      Asia  2011               54.543617           2.499857   \n",
      "2957  Timor-Leste      Asia  2012               58.003590           2.499857   \n",
      "2958  Timor-Leste      Asia  2013               61.487671           2.499857   \n",
      "2959  Timor-Leste      Asia  2014               73.470000           2.499857   \n",
      "2960  Timor-Leste      Asia  2015               67.281534           2.499857   \n",
      "2961  Timor-Leste      Asia  2016               76.500000          -3.783367   \n",
      "2962  Timor-Leste      Asia  2017               83.237549          -1.005250   \n",
      "2963  Timor-Leste      Asia  2018               89.034103         -26.526599   \n",
      "\n",
      "      GDP per Capita (US$)  Urban Population (%)  \\\n",
      "2945            415.085949               57.2641   \n",
      "2946            529.793700               57.2641   \n",
      "2947            508.791166               24.9790   \n",
      "2948            517.786002               25.3430   \n",
      "2949            453.480696               25.7100   \n",
      "2950            464.524032               26.0410   \n",
      "2951            446.457577               26.3740   \n",
      "2952            523.737539               26.7090   \n",
      "2953            614.435755               27.0480   \n",
      "2954            676.618331               27.3890   \n",
      "2955            806.413526               27.7320   \n",
      "2956            947.510767               28.0790   \n",
      "2957           1013.042872               28.4280   \n",
      "2958           1210.039990               28.7790   \n",
      "2959           1232.453997               29.1330   \n",
      "2960           1332.791772               29.4900   \n",
      "2961           1353.746815               29.8500   \n",
      "2962           1286.406785               30.2120   \n",
      "2963           1230.225280               30.5780   \n",
      "\n",
      "      Primary School Enrollment (%)  Secondary School Enrollment (%)  \\\n",
      "2945                     103.491620                        81.126732   \n",
      "2946                     120.610153                        37.881290   \n",
      "2947                     116.053551                        43.808250   \n",
      "2948                     112.723389                        47.003479   \n",
      "2949                     110.091560                        56.180599   \n",
      "2950                     105.199997                        54.976559   \n",
      "2951                     103.491620                        81.126732   \n",
      "2952                     103.491620                        81.126732   \n",
      "2953                     117.900597                        51.481178   \n",
      "2954                     122.012619                        61.218029   \n",
      "2955                     122.682793                        62.389969   \n",
      "2956                     126.627403                        65.567780   \n",
      "2957                     126.972557                        66.792953   \n",
      "2958                     127.447700                        65.935432   \n",
      "2959                     127.843559                        68.400230   \n",
      "2960                     128.213913                        72.387230   \n",
      "2961                     125.721252                        77.014008   \n",
      "2962                     119.765129                        81.031418   \n",
      "2963                     115.307808                        83.617462   \n",
      "\n",
      "      Children Out of School (%)  Women in Parliament (%)  \\\n",
      "2945                    7.579437                17.976712   \n",
      "2946                    7.579437                17.976712   \n",
      "2947                    7.579437                26.136364   \n",
      "2948                    7.579437                26.136364   \n",
      "2949                    7.579437                25.287356   \n",
      "2950                    7.579437                25.287356   \n",
      "2951                    7.579437                25.287356   \n",
      "2952                    7.579437                29.230769   \n",
      "2953                   16.055981                29.230769   \n",
      "2954                   10.113970                29.230769   \n",
      "2955                    9.877520                29.230769   \n",
      "2956                    7.096490                32.307692   \n",
      "2957                    8.632800                38.461538   \n",
      "2958                    7.661930                38.461538   \n",
      "2959                    6.889130                38.461538   \n",
      "2960                    5.520020                38.461538   \n",
      "2961                    5.422960                38.461538   \n",
      "2962                    3.057080                32.307692   \n",
      "2963                    4.186530                33.846154   \n",
      "\n",
      "      Life Expectancy (Years)  CO2 Emissions (MT)  Renewable Energy (%)  \n",
      "2945                70.160098          174.646907              0.000000  \n",
      "2946                70.160098          174.646907              0.000000  \n",
      "2947                60.901000            0.161000             48.252701  \n",
      "2948                61.888000            0.161000             47.847000  \n",
      "2949                62.893000            0.176000             44.037201  \n",
      "2950                63.882000            0.176000             43.606300  \n",
      "2951                64.803000            0.180000             41.903099  \n",
      "2952                65.610000            0.183000             41.878502  \n",
      "2953                66.276000            0.202000             39.720501  \n",
      "2954                66.796000            0.227000             36.911301  \n",
      "2955                67.186000            0.234000             34.815102  \n",
      "2956                67.477000            0.245000             32.835701  \n",
      "2957                67.720000            0.293000             25.613701  \n",
      "2958                67.953000            0.443000             21.680201  \n",
      "2959                68.197000            0.513000             18.547001  \n",
      "2960                68.459000            0.502000             18.350100  \n",
      "2961                68.735000            0.495000             19.661600  \n",
      "2962                69.007000            0.498000             19.475100  \n",
      "2963                69.260000            0.520000             18.384800  \n"
     ]
    }
   ],
   "source": [
    "# Replace NaN in the 'Continent' column for Timor-Leste with 'Asia'\n",
    "filtered_original_df.loc[filtered_original_df['Country'] == 'Timor-Leste', 'Continent'] = 'Asia'\n",
    "\n",
    "# Verify the change\n",
    "print(filtered_original_df[filtered_original_df['Country'] == 'Timor-Leste'])"
   ]
  },
  {
   "cell_type": "markdown",
   "metadata": {},
   "source": [
    "We then fill the missing continent names as Asia, after doing a bit of Research and finding out that the country Timor-Leste is categorised as being under the Asian continent."
   ]
  },
  {
   "cell_type": "code",
   "execution_count": 440,
   "metadata": {},
   "outputs": [],
   "source": [
    "filtered_original_df.drop_duplicates(inplace=True)"
   ]
  },
  {
   "cell_type": "markdown",
   "metadata": {},
   "source": [
    "After addressing missing values, we then remove duplicates as these can skew our analysis."
   ]
  },
  {
   "cell_type": "code",
   "execution_count": 441,
   "metadata": {},
   "outputs": [
    {
     "name": "stdout",
     "output_type": "stream",
     "text": [
      "Number of duplicate rows: 0\n"
     ]
    }
   ],
   "source": [
    "# Check for duplicates in the DataFrame\n",
    "duplicates = filtered_original_df.duplicated()\n",
    "\n",
    "# Display the number of duplicate rows\n",
    "num_duplicates = duplicates.sum()\n",
    "print(f'Number of duplicate rows: {num_duplicates}')\n",
    "\n",
    "# Optionally, display the duplicate rows\n",
    "if num_duplicates > 0:\n",
    "    print(filtered_original_df[duplicates])\n"
   ]
  },
  {
   "cell_type": "markdown",
   "metadata": {},
   "source": [
    "Here we double check if duplicates have actually been removed."
   ]
  },
  {
   "cell_type": "markdown",
   "metadata": {},
   "source": [
    "---\n",
    "<a href=#five></a>\n",
    "## **Exploratory Data Analysis (EDA)**\n",
    "<a href=#cont>Back to Table of Contents</a>\n",
    "\n",
    "* **Purpose:** Explore and visualize the data to uncover patterns, trends, and relationships.\n",
    "* **Details:** Use statistics and visualizations to explore the data. This may include histograms, box plots, scatter plots, and correlation matrices. Discuss any significant findings.\n",
    "---\n"
   ]
  },
  {
   "cell_type": "markdown",
   "metadata": {},
   "source": [
    "### Number of Unique Countries by Continent\n",
    "By displaying patterns in global diversity, this graphic helps in our understanding of how distinct countries are distributed among continents. It draws attention to:\n",
    "\n",
    "1. **Geopolitical Insights**: Talk about international relations and regional dynamics can benefit from knowing how many countries are in each continent.\n",
    "\n",
    "2. **Resource Allocation**: Using this data, organizations and policymakers may efficiently address local needs and distribute resources.\n",
    "\n",
    "3. **Trend Analysis**: Trends in nation-building, conflict, and globalization can be found by tracking the number of countries over time.\n",
    "\n",
    "All in all, it paints a more accurate picture of why our data is the way it is.\n"
   ]
  },
  {
   "cell_type": "code",
   "execution_count": 442,
   "metadata": {},
   "outputs": [
    {
     "data": {
      "image/png": "[encoded data removed]",
      "text/plain": [
       "<Figure size 1000x600 with 1 Axes>"
      ]
     },
     "metadata": {},
     "output_type": "display_data"
    }
   ],
   "source": [
    "# Count unique countries per continent\n",
    "country_counts_by_continent = filtered_original_df.groupby('Continent')['Country'].nunique()\n",
    "\n",
    "# Create a bar plot for the number of unique countries by continent\n",
    "plt.figure(figsize=(10, 6))\n",
    "sns.barplot(x=country_counts_by_continent.index, y=country_counts_by_continent.values, palette='pastel')\n",
    "plt.title('Number of Unique Countries by Continent')\n",
    "plt.xlabel('Continent')\n",
    "plt.ylabel('Number of Unique Countries')\n",
    "plt.show()"
   ]
  },
  {
   "cell_type": "markdown",
   "metadata": {},
   "source": [
    "#### Key Observations:\n",
    "\n",
    "* Africa has the highest number of unique countries, followed by Asia.\n",
    "* Oceania and South America have the lowest numbers of unique countries.\n",
    "* Europe and North America have a moderate number of unique countries.\n",
    "\n",
    "#### Possible reasons for these observations:\n",
    "\n",
    "Africa has the highest number of unique countries due to its colonial history and ethnic diversity, followed by Asia for similar reasons. Oceania and South America have fewer countries because of smaller land areas and historical consolidation. Europe and North America have moderate counts, shaped by shifting borders and larger nations. Overall, historical, geographical, and cultural factors influence the number of unique countries in each continent."
   ]
  },
  {
   "cell_type": "markdown",
   "metadata": {},
   "source": [
    "### **Trend Analysis for the Different Indicators**\n",
    "###### *NB.co2 emmissions and life expectancy have been excluded due to the difference in units.*"
   ]
  },
  {
   "cell_type": "code",
   "execution_count": 443,
   "metadata": {},
   "outputs": [
    {
     "data": {
      "application/vnd.plotly.v1+json": {
       "config": {
        "plotlyServerURL": "https://plot.ly"
       },
       "data": [
        {
         "line": {
          "width": 2
         },
         "mode": "lines+markers",
         "name": "Electricity Access (%)",
         "type": "scatter",
         "x": [
          "Africa",
          "Asia",
          "Europe",
          "North America",
          "Oceania",
          "South America"
         ],
         "y": [
          43.732787516794865,
          88.899188089756,
          99.97077949013158,
          90.85513732009343,
          75.02864509057895,
          93.86623474236842
         ]
        },
        {
         "line": {
          "width": 2
         },
         "mode": "lines+markers",
         "name": "Urban Population (%)",
         "type": "scatter",
         "x": [
          "Africa",
          "Asia",
          "Europe",
          "North America",
          "Oceania",
          "South America"
         ],
         "y": [
          41.92317068795071,
          59.37688869700778,
          69.35024212898634,
          57.674156004584425,
          48.887154409688094,
          72.39995265530213
         ]
        },
        {
         "line": {
          "width": 2
         },
         "mode": "lines+markers",
         "name": "Income Growth (%)",
         "type": "scatter",
         "x": [
          "Africa",
          "Asia",
          "Europe",
          "North America",
          "Oceania",
          "South America"
         ],
         "y": [
          2.70100143696577,
          2.436071991478841,
          2.7238547198913836,
          1.9143141811271962,
          1.9036814763173278,
          2.581468530665012
         ]
        },
        {
         "line": {
          "width": 2
         },
         "mode": "lines+markers",
         "name": "Primary School Enrollment (%)",
         "type": "scatter",
         "x": [
          "Africa",
          "Asia",
          "Europe",
          "North America",
          "Oceania",
          "South America"
         ],
         "y": [
          102.26208400846087,
          103.65685282306036,
          101.64583631902458,
          105.0943480054194,
          106.4440427764841,
          109.41197537077193
         ]
        },
        {
         "line": {
          "width": 2
         },
         "mode": "lines+markers",
         "name": "Secondary School Enrollment (%)",
         "type": "scatter",
         "x": [
          "Africa",
          "Asia",
          "Europe",
          "North America",
          "Oceania",
          "South America"
         ],
         "y": [
          59.78785387324395,
          80.16864455873167,
          102.53692105099782,
          84.87191389797566,
          87.01714363812629,
          87.19801039405058
         ]
        },
        {
         "line": {
          "width": 2
         },
         "mode": "lines+markers",
         "name": "Children Out of School (%)",
         "type": "scatter",
         "x": [
          "Africa",
          "Asia",
          "Europe",
          "North America",
          "Oceania",
          "South America"
         ],
         "y": [
          14.749152161058086,
          6.1024121628975525,
          3.001200027625224,
          6.06722427558325,
          4.859763624944274,
          4.552999733691163
         ]
        },
        {
         "line": {
          "width": 2
         },
         "mode": "lines+markers",
         "name": "Women in Parliament (%)",
         "type": "scatter",
         "x": [
          "Africa",
          "Asia",
          "Europe",
          "North America",
          "Oceania",
          "South America"
         ],
         "y": [
          17.1902152044372,
          13.914038330685123,
          23.42035575018766,
          18.473048724666807,
          13.16720792698181,
          19.98005752207401
         ]
        },
        {
         "line": {
          "width": 2
         },
         "mode": "lines+markers",
         "name": "Renewable Energy (%)",
         "type": "scatter",
         "x": [
          "Africa",
          "Asia",
          "Europe",
          "North America",
          "Oceania",
          "South America"
         ],
         "y": [
          61.44675600874132,
          21.26000597424485,
          18.771749854580264,
          23.068256015717704,
          28.26943867241228,
          29.872471911956143
         ]
        }
       ],
       "layout": {
        "height": 700,
        "margin": {
         "b": 50,
         "l": 50,
         "r": 50,
         "t": 50
        },
        "template": {
         "data": {
          "bar": [
           {
            "error_x": {
             "color": "#2a3f5f"
            },
            "error_y": {
             "color": "#2a3f5f"
            },
            "marker": {
             "line": {
              "color": "#E5ECF6",
              "width": 0.5
             },
             "pattern": {
              "fillmode": "overlay",
              "size": 10,
              "solidity": 0.2
             }
            },
            "type": "bar"
           }
          ],
          "barpolar": [
           {
            "marker": {
             "line": {
              "color": "#E5ECF6",
              "width": 0.5
             },
             "pattern": {
              "fillmode": "overlay",
              "size": 10,
              "solidity": 0.2
             }
            },
            "type": "barpolar"
           }
          ],
          "carpet": [
           {
            "aaxis": {
             "endlinecolor": "#2a3f5f",
             "gridcolor": "white",
             "linecolor": "white",
             "minorgridcolor": "white",
             "startlinecolor": "#2a3f5f"
            },
            "baxis": {
             "endlinecolor": "#2a3f5f",
             "gridcolor": "white",
             "linecolor": "white",
             "minorgridcolor": "white",
             "startlinecolor": "#2a3f5f"
            },
            "type": "carpet"
           }
          ],
          "choropleth": [
           {
            "colorbar": {
             "outlinewidth": 0,
             "ticks": ""
            },
            "type": "choropleth"
           }
          ],
          "contour": [
           {
            "colorbar": {
             "outlinewidth": 0,
             "ticks": ""
            },
            "colorscale": [
             [
              0,
              "#0d0887"
             ],
             [
              0.1111111111111111,
              "#46039f"
             ],
             [
              0.2222222222222222,
              "#7201a8"
             ],
             [
              0.3333333333333333,
              "#9c179e"
             ],
             [
              0.4444444444444444,
              "#bd3786"
             ],
             [
              0.5555555555555556,
              "#d8576b"
             ],
             [
              0.6666666666666666,
              "#ed7953"
             ],
             [
              0.7777777777777778,
              "#fb9f3a"
             ],
             [
              0.8888888888888888,
              "#fdca26"
             ],
             [
              1,
              "#f0f921"
             ]
            ],
            "type": "contour"
           }
          ],
          "contourcarpet": [
           {
            "colorbar": {
             "outlinewidth": 0,
             "ticks": ""
            },
            "type": "contourcarpet"
           }
          ],
          "heatmap": [
           {
            "colorbar": {
             "outlinewidth": 0,
             "ticks": ""
            },
            "colorscale": [
             [
              0,
              "#0d0887"
             ],
             [
              0.1111111111111111,
              "#46039f"
             ],
             [
              0.2222222222222222,
              "#7201a8"
             ],
             [
              0.3333333333333333,
              "#9c179e"
             ],
             [
              0.4444444444444444,
              "#bd3786"
             ],
             [
              0.5555555555555556,
              "#d8576b"
             ],
             [
              0.6666666666666666,
              "#ed7953"
             ],
             [
              0.7777777777777778,
              "#fb9f3a"
             ],
             [
              0.8888888888888888,
              "#fdca26"
             ],
             [
              1,
              "#f0f921"
             ]
            ],
            "type": "heatmap"
           }
          ],
          "heatmapgl": [
           {
            "colorbar": {
             "outlinewidth": 0,
             "ticks": ""
            },
            "colorscale": [
             [
              0,
              "#0d0887"
             ],
             [
              0.1111111111111111,
              "#46039f"
             ],
             [
              0.2222222222222222,
              "#7201a8"
             ],
             [
              0.3333333333333333,
              "#9c179e"
             ],
             [
              0.4444444444444444,
              "#bd3786"
             ],
             [
              0.5555555555555556,
              "#d8576b"
             ],
             [
              0.6666666666666666,
              "#ed7953"
             ],
             [
              0.7777777777777778,
              "#fb9f3a"
             ],
             [
              0.8888888888888888,
              "#fdca26"
             ],
             [
              1,
              "#f0f921"
             ]
            ],
            "type": "heatmapgl"
           }
          ],
          "histogram": [
           {
            "marker": {
             "pattern": {
              "fillmode": "overlay",
              "size": 10,
              "solidity": 0.2
             }
            },
            "type": "histogram"
           }
          ],
          "histogram2d": [
           {
            "colorbar": {
             "outlinewidth": 0,
             "ticks": ""
            },
            "colorscale": [
             [
              0,
              "#0d0887"
             ],
             [
              0.1111111111111111,
              "#46039f"
             ],
             [
              0.2222222222222222,
              "#7201a8"
             ],
             [
              0.3333333333333333,
              "#9c179e"
             ],
             [
              0.4444444444444444,
              "#bd3786"
             ],
             [
              0.5555555555555556,
              "#d8576b"
             ],
             [
              0.6666666666666666,
              "#ed7953"
             ],
             [
              0.7777777777777778,
              "#fb9f3a"
             ],
             [
              0.8888888888888888,
              "#fdca26"
             ],
             [
              1,
              "#f0f921"
             ]
            ],
            "type": "histogram2d"
           }
          ],
          "histogram2dcontour": [
           {
            "colorbar": {
             "outlinewidth": 0,
             "ticks": ""
            },
            "colorscale": [
             [
              0,
              "#0d0887"
             ],
             [
              0.1111111111111111,
              "#46039f"
             ],
             [
              0.2222222222222222,
              "#7201a8"
             ],
             [
              0.3333333333333333,
              "#9c179e"
             ],
             [
              0.4444444444444444,
              "#bd3786"
             ],
             [
              0.5555555555555556,
              "#d8576b"
             ],
             [
              0.6666666666666666,
              "#ed7953"
             ],
             [
              0.7777777777777778,
              "#fb9f3a"
             ],
             [
              0.8888888888888888,
              "#fdca26"
             ],
             [
              1,
              "#f0f921"
             ]
            ],
            "type": "histogram2dcontour"
           }
          ],
          "mesh3d": [
           {
            "colorbar": {
             "outlinewidth": 0,
             "ticks": ""
            },
            "type": "mesh3d"
           }
          ],
          "parcoords": [
           {
            "line": {
             "colorbar": {
              "outlinewidth": 0,
              "ticks": ""
             }
            },
            "type": "parcoords"
           }
          ],
          "pie": [
           {
            "automargin": true,
            "type": "pie"
           }
          ],
          "scatter": [
           {
            "fillpattern": {
             "fillmode": "overlay",
             "size": 10,
             "solidity": 0.2
            },
            "type": "scatter"
           }
          ],
          "scatter3d": [
           {
            "line": {
             "colorbar": {
              "outlinewidth": 0,
              "ticks": ""
             }
            },
            "marker": {
             "colorbar": {
              "outlinewidth": 0,
              "ticks": ""
             }
            },
            "type": "scatter3d"
           }
          ],
          "scattercarpet": [
           {
            "marker": {
             "colorbar": {
              "outlinewidth": 0,
              "ticks": ""
             }
            },
            "type": "scattercarpet"
           }
          ],
          "scattergeo": [
           {
            "marker": {
             "colorbar": {
              "outlinewidth": 0,
              "ticks": ""
             }
            },
            "type": "scattergeo"
           }
          ],
          "scattergl": [
           {
            "marker": {
             "colorbar": {
              "outlinewidth": 0,
              "ticks": ""
             }
            },
            "type": "scattergl"
           }
          ],
          "scattermapbox": [
           {
            "marker": {
             "colorbar": {
              "outlinewidth": 0,
              "ticks": ""
             }
            },
            "type": "scattermapbox"
           }
          ],
          "scatterpolar": [
           {
            "marker": {
             "colorbar": {
              "outlinewidth": 0,
              "ticks": ""
             }
            },
            "type": "scatterpolar"
           }
          ],
          "scatterpolargl": [
           {
            "marker": {
             "colorbar": {
              "outlinewidth": 0,
              "ticks": ""
             }
            },
            "type": "scatterpolargl"
           }
          ],
          "scatterternary": [
           {
            "marker": {
             "colorbar": {
              "outlinewidth": 0,
              "ticks": ""
             }
            },
            "type": "scatterternary"
           }
          ],
          "surface": [
           {
            "colorbar": {
             "outlinewidth": 0,
             "ticks": ""
            },
            "colorscale": [
             [
              0,
              "#0d0887"
             ],
             [
              0.1111111111111111,
              "#46039f"
             ],
             [
              0.2222222222222222,
              "#7201a8"
             ],
             [
              0.3333333333333333,
              "#9c179e"
             ],
             [
              0.4444444444444444,
              "#bd3786"
             ],
             [
              0.5555555555555556,
              "#d8576b"
             ],
             [
              0.6666666666666666,
              "#ed7953"
             ],
             [
              0.7777777777777778,
              "#fb9f3a"
             ],
             [
              0.8888888888888888,
              "#fdca26"
             ],
             [
              1,
              "#f0f921"
             ]
            ],
            "type": "surface"
           }
          ],
          "table": [
           {
            "cells": {
             "fill": {
              "color": "#EBF0F8"
             },
             "line": {
              "color": "white"
             }
            },
            "header": {
             "fill": {
              "color": "#C8D4E3"
             },
             "line": {
              "color": "white"
             }
            },
            "type": "table"
           }
          ]
         },
         "layout": {
          "annotationdefaults": {
           "arrowcolor": "#2a3f5f",
           "arrowhead": 0,
           "arrowwidth": 1
          },
          "autotypenumbers": "strict",
          "coloraxis": {
           "colorbar": {
            "outlinewidth": 0,
            "ticks": ""
           }
          },
          "colorscale": {
           "diverging": [
            [
             0,
             "#8e0152"
            ],
            [
             0.1,
             "#c51b7d"
            ],
            [
             0.2,
             "#de77ae"
            ],
            [
             0.3,
             "#f1b6da"
            ],
            [
             0.4,
             "#fde0ef"
            ],
            [
             0.5,
             "#f7f7f7"
            ],
            [
             0.6,
             "#e6f5d0"
            ],
            [
             0.7,
             "#b8e186"
            ],
            [
             0.8,
             "#7fbc41"
            ],
            [
             0.9,
             "#4d9221"
            ],
            [
             1,
             "#276419"
            ]
           ],
           "sequential": [
            [
             0,
             "#0d0887"
            ],
            [
             0.1111111111111111,
             "#46039f"
            ],
            [
             0.2222222222222222,
             "#7201a8"
            ],
            [
             0.3333333333333333,
             "#9c179e"
            ],
            [
             0.4444444444444444,
             "#bd3786"
            ],
            [
             0.5555555555555556,
             "#d8576b"
            ],
            [
             0.6666666666666666,
             "#ed7953"
            ],
            [
             0.7777777777777778,
             "#fb9f3a"
            ],
            [
             0.8888888888888888,
             "#fdca26"
            ],
            [
             1,
             "#f0f921"
            ]
           ],
           "sequentialminus": [
            [
             0,
             "#0d0887"
            ],
            [
             0.1111111111111111,
             "#46039f"
            ],
            [
             0.2222222222222222,
             "#7201a8"
            ],
            [
             0.3333333333333333,
             "#9c179e"
            ],
            [
             0.4444444444444444,
             "#bd3786"
            ],
            [
             0.5555555555555556,
             "#d8576b"
            ],
            [
             0.6666666666666666,
             "#ed7953"
            ],
            [
             0.7777777777777778,
             "#fb9f3a"
            ],
            [
             0.8888888888888888,
             "#fdca26"
            ],
            [
             1,
             "#f0f921"
            ]
           ]
          },
          "colorway": [
           "#636efa",
           "#EF553B",
           "#00cc96",
           "#ab63fa",
           "#FFA15A",
           "#19d3f3",
           "#FF6692",
           "#B6E880",
           "#FF97FF",
           "#FECB52"
          ],
          "font": {
           "color": "#2a3f5f"
          },
          "geo": {
           "bgcolor": "white",
           "lakecolor": "white",
           "landcolor": "#E5ECF6",
           "showlakes": true,
           "showland": true,
           "subunitcolor": "white"
          },
          "hoverlabel": {
           "align": "left"
          },
          "hovermode": "closest",
          "mapbox": {
           "style": "light"
          },
          "paper_bgcolor": "white",
          "plot_bgcolor": "#E5ECF6",
          "polar": {
           "angularaxis": {
            "gridcolor": "white",
            "linecolor": "white",
            "ticks": ""
           },
           "bgcolor": "#E5ECF6",
           "radialaxis": {
            "gridcolor": "white",
            "linecolor": "white",
            "ticks": ""
           }
          },
          "scene": {
           "xaxis": {
            "backgroundcolor": "#E5ECF6",
            "gridcolor": "white",
            "gridwidth": 2,
            "linecolor": "white",
            "showbackground": true,
            "ticks": "",
            "zerolinecolor": "white"
           },
           "yaxis": {
            "backgroundcolor": "#E5ECF6",
            "gridcolor": "white",
            "gridwidth": 2,
            "linecolor": "white",
            "showbackground": true,
            "ticks": "",
            "zerolinecolor": "white"
           },
           "zaxis": {
            "backgroundcolor": "#E5ECF6",
            "gridcolor": "white",
            "gridwidth": 2,
            "linecolor": "white",
            "showbackground": true,
            "ticks": "",
            "zerolinecolor": "white"
           }
          },
          "shapedefaults": {
           "line": {
            "color": "#2a3f5f"
           }
          },
          "ternary": {
           "aaxis": {
            "gridcolor": "white",
            "linecolor": "white",
            "ticks": ""
           },
           "baxis": {
            "gridcolor": "white",
            "linecolor": "white",
            "ticks": ""
           },
           "bgcolor": "#E5ECF6",
           "caxis": {
            "gridcolor": "white",
            "linecolor": "white",
            "ticks": ""
           }
          },
          "title": {
           "x": 0.05
          },
          "xaxis": {
           "automargin": true,
           "gridcolor": "white",
           "linecolor": "white",
           "ticks": "",
           "title": {
            "standoff": 15
           },
           "zerolinecolor": "white",
           "zerolinewidth": 2
          },
          "yaxis": {
           "automargin": true,
           "gridcolor": "white",
           "linecolor": "white",
           "ticks": "",
           "title": {
            "standoff": 15
           },
           "zerolinecolor": "white",
           "zerolinewidth": 2
          }
         }
        },
        "title": {
         "text": "Average Indicators per Continent"
        },
        "width": 1200,
        "xaxis": {
         "title": {
          "text": "Continent"
         }
        },
        "yaxis": {
         "title": {
          "text": "Value"
         }
        }
       }
      }
     },
     "metadata": {},
     "output_type": "display_data"
    }
   ],
   "source": [
    "import plotly.graph_objects as go\n",
    "\n",
    "# Define the indicators as a list\n",
    "indicators = [\n",
    "    \"Electricity Access (%)\",\n",
    "    \"Urban Population (%)\",\n",
    "    \"Income Growth (%)\",\n",
    "    \"Primary School Enrollment (%)\",\n",
    "    \"Secondary School Enrollment (%)\",\n",
    "    \"Children Out of School (%)\",\n",
    "    \"Women in Parliament (%)\",\n",
    "    \"Renewable Energy (%)\"\n",
    "]\n",
    "\n",
    "# Create an empty figure\n",
    "fig = go.Figure()\n",
    "\n",
    "# Add a trace for each indicator to the same chart\n",
    "for indicator in indicators:\n",
    "    grouped_df = filtered_original_df.groupby(\"Continent\")[indicator].mean().reset_index()\n",
    "    \n",
    "    # Add line plot for each indicator\n",
    "    fig.add_trace(go.Scatter(\n",
    "        x=grouped_df[\"Continent\"],\n",
    "        y=grouped_df[indicator],\n",
    "        mode='lines+markers',  # Use lines and markers\n",
    "        name=indicator,\n",
    "        line=dict(width=2)  # Set the line width\n",
    "    ))\n",
    "\n",
    "# Update layout for the chart\n",
    "fig.update_layout(\n",
    "    title=\"Average Indicators per Continent\",\n",
    "    yaxis_title=\"Value\",\n",
    "    xaxis_title=\"Continent\",\n",
    "    height=700,  # Increase height for better spacing\n",
    "    width=1200,  # Increase width for better spacing\n",
    "    margin=dict(l=50, r=50, t=50, b=50),  # Adjust margins for more space\n",
    ")\n",
    "\n",
    "# Show the plot\n",
    "fig.show()\n"
   ]
  },
  {
   "cell_type": "markdown",
   "metadata": {},
   "source": [
    "#### **Observations**\n",
    "\n",
    "**Regional Differences:** There are clear regional variations in the average values of the development indicators. Some continents consistently score higher or lower than others across multiple indicators.\n",
    "\n",
    "**Trends:** Some indicators show increasing or decreasing trends across continents. For example, electricity access, primary school enrollment, and secondary school enrollment tend to increase from Africa to North America.\n",
    "\n",
    "**Outliers:** There are a few outliers, where a continent's value for a particular indicator is significantly different from the general trend.\n",
    "\n",
    "#### **Specific Observations:**\n",
    "\n",
    "**Electricity Access:** North America and Europe have the highest average electricity access, while Africa has the lowest.\n",
    "\n",
    "**Urban Population:** North America has the highest average urban population, followed by Europe and Asia. Africa has the lowest.\n",
    "\n",
    "**Income Growth:** Asia and North America have the highest average income growth, while Africa has the lowest.\n",
    "\n",
    "**Education:** Primary and secondary school enrollment are generally higher in North America, Europe, and Oceania compared to Africa and Asia.\n",
    "\n",
    "**Children Out of School:** Africa has the highest average percentage of children out of school, while North America and Europe have the lowest.\n",
    "\n",
    "**Women in Parliament:** Oceania has the highest average percentage of women in parliament, followed by Europe and North America. Africa has the lowest.\n",
    "\n",
    "**Renewable Energy:** Europe has the highest average renewable energy use, followed by North America and Oceania. Africa has the lowest."
   ]
  },
  {
   "cell_type": "code",
   "execution_count": 444,
   "metadata": {},
   "outputs": [
    {
     "data": {
      "application/vnd.plotly.v1+json": {
       "config": {
        "plotlyServerURL": "https://plot.ly"
       },
       "data": [
        {
         "name": "Electricity Access (%)",
         "type": "bar",
         "width": 0.4,
         "x": [
          "Africa",
          "Asia",
          "Europe",
          "North America",
          "Oceania",
          "South America"
         ],
         "xaxis": "x",
         "y": [
          43.732787516794865,
          88.899188089756,
          99.97077949013158,
          90.85513732009343,
          75.02864509057895,
          93.86623474236842
         ],
         "yaxis": "y"
        },
        {
         "name": "GDP per Capita (US$)",
         "type": "bar",
         "width": 0.4,
         "x": [
          "Africa",
          "Asia",
          "Europe",
          "North America",
          "Oceania",
          "South America"
         ],
         "xaxis": "x2",
         "y": [
          2269.903884310202,
          11849.788112930684,
          26220.479103125,
          11943.223414550957,
          14645.038023363157,
          6472.326314168823
         ],
         "yaxis": "y2"
        },
        {
         "name": "Urban Population (%)",
         "type": "bar",
         "width": 0.4,
         "x": [
          "Africa",
          "Asia",
          "Europe",
          "North America",
          "Oceania",
          "South America"
         ],
         "xaxis": "x3",
         "y": [
          41.92317068795071,
          59.37688869700778,
          69.35024212898634,
          57.674156004584425,
          48.887154409688094,
          72.39995265530213
         ],
         "yaxis": "y3"
        },
        {
         "name": "Life Expectancy (Years)",
         "type": "bar",
         "width": 0.4,
         "x": [
          "Africa",
          "Asia",
          "Europe",
          "North America",
          "Oceania",
          "South America"
         ],
         "xaxis": "x4",
         "y": [
          59.42036951356075,
          72.50698666071328,
          76.89902792041079,
          73.61569582214962,
          72.89543089430894,
          73.06159285408644
         ],
         "yaxis": "y4"
        },
        {
         "name": "Income Growth (%)",
         "type": "bar",
         "width": 0.4,
         "x": [
          "Africa",
          "Asia",
          "Europe",
          "North America",
          "Oceania",
          "South America"
         ],
         "xaxis": "x5",
         "y": [
          2.70100143696577,
          2.436071991478841,
          2.7238547198913836,
          1.9143141811271962,
          1.9036814763173278,
          2.581468530665012
         ],
         "yaxis": "y5"
        },
        {
         "name": "Primary School Enrollment (%)",
         "type": "bar",
         "width": 0.4,
         "x": [
          "Africa",
          "Asia",
          "Europe",
          "North America",
          "Oceania",
          "South America"
         ],
         "xaxis": "x6",
         "y": [
          102.26208400846087,
          103.65685282306036,
          101.64583631902458,
          105.0943480054194,
          106.4440427764841,
          109.41197537077193
         ],
         "yaxis": "y6"
        },
        {
         "name": "Secondary School Enrollment (%)",
         "type": "bar",
         "width": 0.4,
         "x": [
          "Africa",
          "Asia",
          "Europe",
          "North America",
          "Oceania",
          "South America"
         ],
         "xaxis": "x7",
         "y": [
          59.78785387324395,
          80.16864455873167,
          102.53692105099782,
          84.87191389797566,
          87.01714363812629,
          87.19801039405058
         ],
         "yaxis": "y7"
        },
        {
         "name": "Children Out of School (%)",
         "type": "bar",
         "width": 0.4,
         "x": [
          "Africa",
          "Asia",
          "Europe",
          "North America",
          "Oceania",
          "South America"
         ],
         "xaxis": "x8",
         "y": [
          14.749152161058086,
          6.1024121628975525,
          3.001200027625224,
          6.06722427558325,
          4.859763624944274,
          4.552999733691163
         ],
         "yaxis": "y8"
        },
        {
         "name": "Women in Parliament (%)",
         "type": "bar",
         "width": 0.4,
         "x": [
          "Africa",
          "Asia",
          "Europe",
          "North America",
          "Oceania",
          "South America"
         ],
         "xaxis": "x9",
         "y": [
          17.1902152044372,
          13.914038330685123,
          23.42035575018766,
          18.473048724666807,
          13.16720792698181,
          19.98005752207401
         ],
         "yaxis": "y9"
        },
        {
         "name": "CO2 Emissions (MT)",
         "type": "bar",
         "width": 0.4,
         "x": [
          "Africa",
          "Asia",
          "Europe",
          "North America",
          "Oceania",
          "South America"
         ],
         "xaxis": "x10",
         "y": [
          23.27836954087346,
          320.113413973787,
          151.4675855263158,
          314.2341435406699,
          71.71336842105262,
          82.70663596491228
         ],
         "yaxis": "y10"
        },
        {
         "name": "Renewable Energy (%)",
         "type": "bar",
         "width": 0.4,
         "x": [
          "Africa",
          "Asia",
          "Europe",
          "North America",
          "Oceania",
          "South America"
         ],
         "xaxis": "x11",
         "y": [
          61.44675600874132,
          21.26000597424485,
          18.771749854580264,
          23.068256015717704,
          28.26943867241228,
          29.872471911956143
         ],
         "yaxis": "y11"
        }
       ],
       "layout": {
        "annotations": [
         {
          "font": {
           "size": 16
          },
          "showarrow": false,
          "text": "Electricity Access (%)",
          "x": 0.225,
          "xanchor": "center",
          "xref": "paper",
          "y": 0.9999999999999999,
          "yanchor": "bottom",
          "yref": "paper"
         },
         {
          "font": {
           "size": 16
          },
          "showarrow": false,
          "text": "GDP per Capita (US$)",
          "x": 0.775,
          "xanchor": "center",
          "xref": "paper",
          "y": 0.9999999999999999,
          "yanchor": "bottom",
          "yref": "paper"
         },
         {
          "font": {
           "size": 16
          },
          "showarrow": false,
          "text": "Urban Population (%)",
          "x": 0.225,
          "xanchor": "center",
          "xref": "paper",
          "y": 0.8194444444444444,
          "yanchor": "bottom",
          "yref": "paper"
         },
         {
          "font": {
           "size": 16
          },
          "showarrow": false,
          "text": "Life Expectancy (Years)",
          "x": 0.775,
          "xanchor": "center",
          "xref": "paper",
          "y": 0.8194444444444444,
          "yanchor": "bottom",
          "yref": "paper"
         },
         {
          "font": {
           "size": 16
          },
          "showarrow": false,
          "text": "Income Growth (%)",
          "x": 0.225,
          "xanchor": "center",
          "xref": "paper",
          "y": 0.638888888888889,
          "yanchor": "bottom",
          "yref": "paper"
         },
         {
          "font": {
           "size": 16
          },
          "showarrow": false,
          "text": "Primary School Enrollment (%)",
          "x": 0.775,
          "xanchor": "center",
          "xref": "paper",
          "y": 0.638888888888889,
          "yanchor": "bottom",
          "yref": "paper"
         },
         {
          "font": {
           "size": 16
          },
          "showarrow": false,
          "text": "Secondary School Enrollment (%)",
          "x": 0.225,
          "xanchor": "center",
          "xref": "paper",
          "y": 0.4583333333333333,
          "yanchor": "bottom",
          "yref": "paper"
         },
         {
          "font": {
           "size": 16
          },
          "showarrow": false,
          "text": "Children Out of School (%)",
          "x": 0.775,
          "xanchor": "center",
          "xref": "paper",
          "y": 0.4583333333333333,
          "yanchor": "bottom",
          "yref": "paper"
         },
         {
          "font": {
           "size": 16
          },
          "showarrow": false,
          "text": "Women in Parliament (%)",
          "x": 0.225,
          "xanchor": "center",
          "xref": "paper",
          "y": 0.2777777777777778,
          "yanchor": "bottom",
          "yref": "paper"
         },
         {
          "font": {
           "size": 16
          },
          "showarrow": false,
          "text": "CO2 Emissions (MT)",
          "x": 0.775,
          "xanchor": "center",
          "xref": "paper",
          "y": 0.2777777777777778,
          "yanchor": "bottom",
          "yref": "paper"
         },
         {
          "font": {
           "size": 16
          },
          "showarrow": false,
          "text": "Renewable Energy (%)",
          "x": 0.225,
          "xanchor": "center",
          "xref": "paper",
          "y": 0.09722222222222222,
          "yanchor": "bottom",
          "yref": "paper"
         }
        ],
        "height": 700,
        "margin": {
         "b": 50,
         "l": 50,
         "r": 50,
         "t": 50
        },
        "showlegend": false,
        "template": {
         "data": {
          "bar": [
           {
            "error_x": {
             "color": "#2a3f5f"
            },
            "error_y": {
             "color": "#2a3f5f"
            },
            "marker": {
             "line": {
              "color": "#E5ECF6",
              "width": 0.5
             },
             "pattern": {
              "fillmode": "overlay",
              "size": 10,
              "solidity": 0.2
             }
            },
            "type": "bar"
           }
          ],
          "barpolar": [
           {
            "marker": {
             "line": {
              "color": "#E5ECF6",
              "width": 0.5
             },
             "pattern": {
              "fillmode": "overlay",
              "size": 10,
              "solidity": 0.2
             }
            },
            "type": "barpolar"
           }
          ],
          "carpet": [
           {
            "aaxis": {
             "endlinecolor": "#2a3f5f",
             "gridcolor": "white",
             "linecolor": "white",
             "minorgridcolor": "white",
             "startlinecolor": "#2a3f5f"
            },
            "baxis": {
             "endlinecolor": "#2a3f5f",
             "gridcolor": "white",
             "linecolor": "white",
             "minorgridcolor": "white",
             "startlinecolor": "#2a3f5f"
            },
            "type": "carpet"
           }
          ],
          "choropleth": [
           {
            "colorbar": {
             "outlinewidth": 0,
             "ticks": ""
            },
            "type": "choropleth"
           }
          ],
          "contour": [
           {
            "colorbar": {
             "outlinewidth": 0,
             "ticks": ""
            },
            "colorscale": [
             [
              0,
              "#0d0887"
             ],
             [
              0.1111111111111111,
              "#46039f"
             ],
             [
              0.2222222222222222,
              "#7201a8"
             ],
             [
              0.3333333333333333,
              "#9c179e"
             ],
             [
              0.4444444444444444,
              "#bd3786"
             ],
             [
              0.5555555555555556,
              "#d8576b"
             ],
             [
              0.6666666666666666,
              "#ed7953"
             ],
             [
              0.7777777777777778,
              "#fb9f3a"
             ],
             [
              0.8888888888888888,
              "#fdca26"
             ],
             [
              1,
              "#f0f921"
             ]
            ],
            "type": "contour"
           }
          ],
          "contourcarpet": [
           {
            "colorbar": {
             "outlinewidth": 0,
             "ticks": ""
            },
            "type": "contourcarpet"
           }
          ],
          "heatmap": [
           {
            "colorbar": {
             "outlinewidth": 0,
             "ticks": ""
            },
            "colorscale": [
             [
              0,
              "#0d0887"
             ],
             [
              0.1111111111111111,
              "#46039f"
             ],
             [
              0.2222222222222222,
              "#7201a8"
             ],
             [
              0.3333333333333333,
              "#9c179e"
             ],
             [
              0.4444444444444444,
              "#bd3786"
             ],
             [
              0.5555555555555556,
              "#d8576b"
             ],
             [
              0.6666666666666666,
              "#ed7953"
             ],
             [
              0.7777777777777778,
              "#fb9f3a"
             ],
             [
              0.8888888888888888,
              "#fdca26"
             ],
             [
              1,
              "#f0f921"
             ]
            ],
            "type": "heatmap"
           }
          ],
          "heatmapgl": [
           {
            "colorbar": {
             "outlinewidth": 0,
             "ticks": ""
            },
            "colorscale": [
             [
              0,
              "#0d0887"
             ],
             [
              0.1111111111111111,
              "#46039f"
             ],
             [
              0.2222222222222222,
              "#7201a8"
             ],
             [
              0.3333333333333333,
              "#9c179e"
             ],
             [
              0.4444444444444444,
              "#bd3786"
             ],
             [
              0.5555555555555556,
              "#d8576b"
             ],
             [
              0.6666666666666666,
              "#ed7953"
             ],
             [
              0.7777777777777778,
              "#fb9f3a"
             ],
             [
              0.8888888888888888,
              "#fdca26"
             ],
             [
              1,
              "#f0f921"
             ]
            ],
            "type": "heatmapgl"
           }
          ],
          "histogram": [
           {
            "marker": {
             "pattern": {
              "fillmode": "overlay",
              "size": 10,
              "solidity": 0.2
             }
            },
            "type": "histogram"
           }
          ],
          "histogram2d": [
           {
            "colorbar": {
             "outlinewidth": 0,
             "ticks": ""
            },
            "colorscale": [
             [
              0,
              "#0d0887"
             ],
             [
              0.1111111111111111,
              "#46039f"
             ],
             [
              0.2222222222222222,
              "#7201a8"
             ],
             [
              0.3333333333333333,
              "#9c179e"
             ],
             [
              0.4444444444444444,
              "#bd3786"
             ],
             [
              0.5555555555555556,
              "#d8576b"
             ],
             [
              0.6666666666666666,
              "#ed7953"
             ],
             [
              0.7777777777777778,
              "#fb9f3a"
             ],
             [
              0.8888888888888888,
              "#fdca26"
             ],
             [
              1,
              "#f0f921"
             ]
            ],
            "type": "histogram2d"
           }
          ],
          "histogram2dcontour": [
           {
            "colorbar": {
             "outlinewidth": 0,
             "ticks": ""
            },
            "colorscale": [
             [
              0,
              "#0d0887"
             ],
             [
              0.1111111111111111,
              "#46039f"
             ],
             [
              0.2222222222222222,
              "#7201a8"
             ],
             [
              0.3333333333333333,
              "#9c179e"
             ],
             [
              0.4444444444444444,
              "#bd3786"
             ],
             [
              0.5555555555555556,
              "#d8576b"
             ],
             [
              0.6666666666666666,
              "#ed7953"
             ],
             [
              0.7777777777777778,
              "#fb9f3a"
             ],
             [
              0.8888888888888888,
              "#fdca26"
             ],
             [
              1,
              "#f0f921"
             ]
            ],
            "type": "histogram2dcontour"
           }
          ],
          "mesh3d": [
           {
            "colorbar": {
             "outlinewidth": 0,
             "ticks": ""
            },
            "type": "mesh3d"
           }
          ],
          "parcoords": [
           {
            "line": {
             "colorbar": {
              "outlinewidth": 0,
              "ticks": ""
             }
            },
            "type": "parcoords"
           }
          ],
          "pie": [
           {
            "automargin": true,
            "type": "pie"
           }
          ],
          "scatter": [
           {
            "fillpattern": {
             "fillmode": "overlay",
             "size": 10,
             "solidity": 0.2
            },
            "type": "scatter"
           }
          ],
          "scatter3d": [
           {
            "line": {
             "colorbar": {
              "outlinewidth": 0,
              "ticks": ""
             }
            },
            "marker": {
             "colorbar": {
              "outlinewidth": 0,
              "ticks": ""
             }
            },
            "type": "scatter3d"
           }
          ],
          "scattercarpet": [
           {
            "marker": {
             "colorbar": {
              "outlinewidth": 0,
              "ticks": ""
             }
            },
            "type": "scattercarpet"
           }
          ],
          "scattergeo": [
           {
            "marker": {
             "colorbar": {
              "outlinewidth": 0,
              "ticks": ""
             }
            },
            "type": "scattergeo"
           }
          ],
          "scattergl": [
           {
            "marker": {
             "colorbar": {
              "outlinewidth": 0,
              "ticks": ""
             }
            },
            "type": "scattergl"
           }
          ],
          "scattermapbox": [
           {
            "marker": {
             "colorbar": {
              "outlinewidth": 0,
              "ticks": ""
             }
            },
            "type": "scattermapbox"
           }
          ],
          "scatterpolar": [
           {
            "marker": {
             "colorbar": {
              "outlinewidth": 0,
              "ticks": ""
             }
            },
            "type": "scatterpolar"
           }
          ],
          "scatterpolargl": [
           {
            "marker": {
             "colorbar": {
              "outlinewidth": 0,
              "ticks": ""
             }
            },
            "type": "scatterpolargl"
           }
          ],
          "scatterternary": [
           {
            "marker": {
             "colorbar": {
              "outlinewidth": 0,
              "ticks": ""
             }
            },
            "type": "scatterternary"
           }
          ],
          "surface": [
           {
            "colorbar": {
             "outlinewidth": 0,
             "ticks": ""
            },
            "colorscale": [
             [
              0,
              "#0d0887"
             ],
             [
              0.1111111111111111,
              "#46039f"
             ],
             [
              0.2222222222222222,
              "#7201a8"
             ],
             [
              0.3333333333333333,
              "#9c179e"
             ],
             [
              0.4444444444444444,
              "#bd3786"
             ],
             [
              0.5555555555555556,
              "#d8576b"
             ],
             [
              0.6666666666666666,
              "#ed7953"
             ],
             [
              0.7777777777777778,
              "#fb9f3a"
             ],
             [
              0.8888888888888888,
              "#fdca26"
             ],
             [
              1,
              "#f0f921"
             ]
            ],
            "type": "surface"
           }
          ],
          "table": [
           {
            "cells": {
             "fill": {
              "color": "#EBF0F8"
             },
             "line": {
              "color": "white"
             }
            },
            "header": {
             "fill": {
              "color": "#C8D4E3"
             },
             "line": {
              "color": "white"
             }
            },
            "type": "table"
           }
          ]
         },
         "layout": {
          "annotationdefaults": {
           "arrowcolor": "#2a3f5f",
           "arrowhead": 0,
           "arrowwidth": 1
          },
          "autotypenumbers": "strict",
          "coloraxis": {
           "colorbar": {
            "outlinewidth": 0,
            "ticks": ""
           }
          },
          "colorscale": {
           "diverging": [
            [
             0,
             "#8e0152"
            ],
            [
             0.1,
             "#c51b7d"
            ],
            [
             0.2,
             "#de77ae"
            ],
            [
             0.3,
             "#f1b6da"
            ],
            [
             0.4,
             "#fde0ef"
            ],
            [
             0.5,
             "#f7f7f7"
            ],
            [
             0.6,
             "#e6f5d0"
            ],
            [
             0.7,
             "#b8e186"
            ],
            [
             0.8,
             "#7fbc41"
            ],
            [
             0.9,
             "#4d9221"
            ],
            [
             1,
             "#276419"
            ]
           ],
           "sequential": [
            [
             0,
             "#0d0887"
            ],
            [
             0.1111111111111111,
             "#46039f"
            ],
            [
             0.2222222222222222,
             "#7201a8"
            ],
            [
             0.3333333333333333,
             "#9c179e"
            ],
            [
             0.4444444444444444,
             "#bd3786"
            ],
            [
             0.5555555555555556,
             "#d8576b"
            ],
            [
             0.6666666666666666,
             "#ed7953"
            ],
            [
             0.7777777777777778,
             "#fb9f3a"
            ],
            [
             0.8888888888888888,
             "#fdca26"
            ],
            [
             1,
             "#f0f921"
            ]
           ],
           "sequentialminus": [
            [
             0,
             "#0d0887"
            ],
            [
             0.1111111111111111,
             "#46039f"
            ],
            [
             0.2222222222222222,
             "#7201a8"
            ],
            [
             0.3333333333333333,
             "#9c179e"
            ],
            [
             0.4444444444444444,
             "#bd3786"
            ],
            [
             0.5555555555555556,
             "#d8576b"
            ],
            [
             0.6666666666666666,
             "#ed7953"
            ],
            [
             0.7777777777777778,
             "#fb9f3a"
            ],
            [
             0.8888888888888888,
             "#fdca26"
            ],
            [
             1,
             "#f0f921"
            ]
           ]
          },
          "colorway": [
           "#636efa",
           "#EF553B",
           "#00cc96",
           "#ab63fa",
           "#FFA15A",
           "#19d3f3",
           "#FF6692",
           "#B6E880",
           "#FF97FF",
           "#FECB52"
          ],
          "font": {
           "color": "#2a3f5f"
          },
          "geo": {
           "bgcolor": "white",
           "lakecolor": "white",
           "landcolor": "#E5ECF6",
           "showlakes": true,
           "showland": true,
           "subunitcolor": "white"
          },
          "hoverlabel": {
           "align": "left"
          },
          "hovermode": "closest",
          "mapbox": {
           "style": "light"
          },
          "paper_bgcolor": "white",
          "plot_bgcolor": "#E5ECF6",
          "polar": {
           "angularaxis": {
            "gridcolor": "white",
            "linecolor": "white",
            "ticks": ""
           },
           "bgcolor": "#E5ECF6",
           "radialaxis": {
            "gridcolor": "white",
            "linecolor": "white",
            "ticks": ""
           }
          },
          "scene": {
           "xaxis": {
            "backgroundcolor": "#E5ECF6",
            "gridcolor": "white",
            "gridwidth": 2,
            "linecolor": "white",
            "showbackground": true,
            "ticks": "",
            "zerolinecolor": "white"
           },
           "yaxis": {
            "backgroundcolor": "#E5ECF6",
            "gridcolor": "white",
            "gridwidth": 2,
            "linecolor": "white",
            "showbackground": true,
            "ticks": "",
            "zerolinecolor": "white"
           },
           "zaxis": {
            "backgroundcolor": "#E5ECF6",
            "gridcolor": "white",
            "gridwidth": 2,
            "linecolor": "white",
            "showbackground": true,
            "ticks": "",
            "zerolinecolor": "white"
           }
          },
          "shapedefaults": {
           "line": {
            "color": "#2a3f5f"
           }
          },
          "ternary": {
           "aaxis": {
            "gridcolor": "white",
            "linecolor": "white",
            "ticks": ""
           },
           "baxis": {
            "gridcolor": "white",
            "linecolor": "white",
            "ticks": ""
           },
           "bgcolor": "#E5ECF6",
           "caxis": {
            "gridcolor": "white",
            "linecolor": "white",
            "ticks": ""
           }
          },
          "title": {
           "x": 0.05
          },
          "xaxis": {
           "automargin": true,
           "gridcolor": "white",
           "linecolor": "white",
           "ticks": "",
           "title": {
            "standoff": 15
           },
           "zerolinecolor": "white",
           "zerolinewidth": 2
          },
          "yaxis": {
           "automargin": true,
           "gridcolor": "white",
           "linecolor": "white",
           "ticks": "",
           "title": {
            "standoff": 15
           },
           "zerolinecolor": "white",
           "zerolinewidth": 2
          }
         }
        },
        "title": {
         "text": "Average Indicators per Continent"
        },
        "width": 1200,
        "xaxis": {
         "anchor": "y",
         "domain": [
          0,
          0.45
         ]
        },
        "xaxis10": {
         "anchor": "y10",
         "domain": [
          0.55,
          1
         ]
        },
        "xaxis11": {
         "anchor": "y11",
         "domain": [
          0,
          0.45
         ]
        },
        "xaxis12": {
         "anchor": "y12",
         "domain": [
          0.55,
          1
         ]
        },
        "xaxis2": {
         "anchor": "y2",
         "domain": [
          0.55,
          1
         ]
        },
        "xaxis3": {
         "anchor": "y3",
         "domain": [
          0,
          0.45
         ]
        },
        "xaxis4": {
         "anchor": "y4",
         "domain": [
          0.55,
          1
         ]
        },
        "xaxis5": {
         "anchor": "y5",
         "domain": [
          0,
          0.45
         ]
        },
        "xaxis6": {
         "anchor": "y6",
         "domain": [
          0.55,
          1
         ]
        },
        "xaxis7": {
         "anchor": "y7",
         "domain": [
          0,
          0.45
         ]
        },
        "xaxis8": {
         "anchor": "y8",
         "domain": [
          0.55,
          1
         ]
        },
        "xaxis9": {
         "anchor": "y9",
         "domain": [
          0,
          0.45
         ]
        },
        "yaxis": {
         "anchor": "x",
         "automargin": true,
         "domain": [
          0.9027777777777777,
          0.9999999999999999
         ],
         "title": {
          "text": "Value"
         }
        },
        "yaxis10": {
         "anchor": "x10",
         "domain": [
          0.18055555555555555,
          0.2777777777777778
         ]
        },
        "yaxis11": {
         "anchor": "x11",
         "domain": [
          0,
          0.09722222222222222
         ]
        },
        "yaxis12": {
         "anchor": "x12",
         "domain": [
          0,
          0.09722222222222222
         ]
        },
        "yaxis2": {
         "anchor": "x2",
         "domain": [
          0.9027777777777777,
          0.9999999999999999
         ]
        },
        "yaxis3": {
         "anchor": "x3",
         "domain": [
          0.7222222222222222,
          0.8194444444444444
         ]
        },
        "yaxis4": {
         "anchor": "x4",
         "domain": [
          0.7222222222222222,
          0.8194444444444444
         ]
        },
        "yaxis5": {
         "anchor": "x5",
         "domain": [
          0.5416666666666667,
          0.638888888888889
         ]
        },
        "yaxis6": {
         "anchor": "x6",
         "domain": [
          0.5416666666666667,
          0.638888888888889
         ]
        },
        "yaxis7": {
         "anchor": "x7",
         "domain": [
          0.3611111111111111,
          0.4583333333333333
         ]
        },
        "yaxis8": {
         "anchor": "x8",
         "domain": [
          0.3611111111111111,
          0.4583333333333333
         ]
        },
        "yaxis9": {
         "anchor": "x9",
         "domain": [
          0.18055555555555555,
          0.2777777777777778
         ]
        }
       }
      }
     },
     "metadata": {},
     "output_type": "display_data"
    }
   ],
   "source": [
    "indicators = {\n",
    "    \"Electricity Access (%)\": \"Electricity Access (%)\",\n",
    "    \"GDP per Capita (US$)\": \"GDP per Capita (US$)\",\n",
    "    \"Urban Population (%)\": \"Urban Population (%)\",\n",
    "    \"Life Expectancy (Years)\": \"Life Expectancy (Years)\",\n",
    "    \"Income Growth (%)\": \"Income Growth (%)\",\n",
    "    \"Primary School Enrollment (%)\": \"Primary School Enrollment (%)\",\n",
    "    \"Secondary School Enrollment (%)\": \"Secondary School Enrollment (%)\",\n",
    "    \"Children Out of School (%)\": \"Children Out of School (%)\",\n",
    "    \"Women in Parliament (%)\": \"Women in Parliament (%)\",\n",
    "    \"CO2 Emissions (MT)\": \"CO2 Emissions (MT)\",\n",
    "    \"Renewable Energy (%)\": \"Renewable Energy (%)\"\n",
    "}\n",
    "# Calculate number of rows needed (2 per row)\n",
    "num_indicators = len(indicators)\n",
    "num_rows = (num_indicators + 1) // 2  # Use ceiling division to get rows\n",
    "\n",
    "# Create subplots with 2 columns\n",
    "fig = make_subplots(rows=num_rows, cols=2, subplot_titles=list(indicators.keys()))\n",
    "\n",
    "# Add a trace for each indicator with expanded square bars\n",
    "for i, indicator in enumerate(indicators.keys()):\n",
    "    grouped_df = filtered_original_df.groupby(\"Continent\")[indicator].mean().reset_index()\n",
    "    \n",
    "    # Add bar plot for each indicator\n",
    "    fig.add_trace(go.Bar(\n",
    "        x=grouped_df[\"Continent\"],\n",
    "        y=grouped_df[indicator],\n",
    "        name=indicator,\n",
    "        width=0.4  # Increase the width of the bars\n",
    "    ), row=(i // 2) + 1, col=(i % 2) + 1)\n",
    "\n",
    "# Update layout for the chart\n",
    "fig.update_layout(\n",
    "    title=\"Average Indicators per Continent\",\n",
    "    yaxis_title=\"Value\",\n",
    "    showlegend=False,  # Hide legend since it's clear from titles\n",
    "    height=700,  # Increase height for better spacing\n",
    "    width=1200,  # Increase width for better spacing\n",
    "    margin=dict(l=50, r=50, t=50, b=50),  # Adjust margins for more space\n",
    ")\n",
    "\n",
    "# Adjust spacing between subplots\n",
    "fig.update_layout(yaxis=dict(title='Value', automargin=True))\n",
    "\n",
    "# Show the plot\n",
    "fig.show()"
   ]
  },
  {
   "cell_type": "markdown",
   "metadata": {},
   "source": [
    "#### **Observations**\n",
    "**Regional Disparities:** There are significant regional disparities in the average values of the development indicators. Some continents consistently score higher or lower than others across multiple indicators.\n",
    "\n",
    "**Outliers:** A few outliers can be observed, where a continent's value for a particular indicator is significantly different from the general trend.\n",
    "\n",
    "#### **Specific Observations:**\n",
    "\n",
    "**Electricity Access:** North America and Europe have the highest average electricity access, while Africa has the lowest. This is because they have better infrastructure, while Africa lacks adequate energy systems. Stable economies prioritize energy access; Africa faces economic challenges.\n",
    "\n",
    "**GDP per Capita:** North America has the highest average GDP per capita, followed by Europe and Oceania. Africa has the lowest. This could be due to North America's history of industrialization, whereas Africa relies on primary commodities and faces instability.\n",
    "\n",
    "**Urban Population:** North America has the highest average urban population, followed by Europe and Asia. Africa has the lowest as it is still largely rural.\n",
    "\n",
    "**Life Expectancy:** Oceania has the highest average life expectancy, followed by North America and Europe. Africa has the lowest. Advanced healthcare systems in Oceania, North America, and Europe lead to longer life expectancy, unlike in Africa, where healthcare is limited.\n",
    "\n",
    "**Income Growth:** Asia and North America have the highest average income growth, while Africa has the lowest. Huge growth in Asia and North America contrasts with stagnant economies in Africa, hindered by conflicts.\n",
    "\n",
    "**Education:** Primary and secondary school enrollment are generally higher in North America, Europe, and Oceania compared to Africa and Asia. North America and Europe have established systems; Africa and parts of Asia face barriers like poverty and gender inequality.\n",
    "\n",
    "**Children Out of School:** Africa has the highest average percentage of children out of school, while North America and Europe have the lowest. High out-of-school rates in Africa stem from poverty, conflict, and cultural barriers, unlike in North America and Europe.\n",
    "\n",
    "**Women in Parliament:** Oceania has the highest average percentage of women in parliament, followed by Europe and North America. Africa has the lowest. Oceania, Europe, and North America promote gender equality; many African countries face cultural and systemic barriers.\n",
    "\n",
    "**CO2 Emissions:** North America has the highest average CO2 emissions, followed by Asia and Europe. Africa has the lowest. High emissions in North America are linked to industrialization, while Africa's lower emissions reflect limited industrialization.\n",
    "\n",
    "**Renewable Energy:** Europe has the highest average renewable energy use, followed by North America and Oceania. Africa has the lowest. Europe leads in renewable energy due to strong policies; Africa lacks investment and infrastructure for development."
   ]
  },
  {
   "cell_type": "markdown",
   "metadata": {},
   "source": [
    "### **Scatterplot Correlation Matrix**"
   ]
  },
  {
   "cell_type": "code",
   "execution_count": 445,
   "metadata": {},
   "outputs": [
    {
     "data": {
      "image/png": "[encoded data removed]",
      "text/plain": [
       "<Figure size 1600x1800 with 11 Axes>"
      ]
     },
     "metadata": {},
     "output_type": "display_data"
    }
   ],
   "source": [
    "import os\n",
    "import matplotlib.pyplot as plt\n",
    "\n",
    "# Define the indicators as a list\n",
    "indicators = [\n",
    "    \"Electricity Access (%)\",\n",
    "    \"GDP per Capita (US$)\",\n",
    "    \"Urban Population (%)\",\n",
    "    \"Life Expectancy (Years)\",\n",
    "    \"Income Growth (%)\",\n",
    "    \"Primary School Enrollment (%)\",\n",
    "    \"Secondary School Enrollment (%)\",\n",
    "    \"Children Out of School (%)\",\n",
    "    \"Women in Parliament (%)\",\n",
    "    \"CO2 Emissions (MT)\",\n",
    "    \"Renewable Energy (%)\"\n",
    "]\n",
    "\n",
    "# Create a figure with subplots\n",
    "fig, axs = plt.subplots(6, 4, figsize=(16, 18))\n",
    "fig.subplots_adjust(hspace=0.5, wspace=0.4)\n",
    "axs = axs.ravel()  # Flatten the 2D array of axes\n",
    "\n",
    "# Loop through each indicator and create scatter plots\n",
    "for index, column in enumerate(indicators):\n",
    "    axs[index].scatter(x=filtered_original_df[column], \n",
    "                       y=filtered_original_df['GDP per Capita (US$)'], \n",
    "                       color='blue', edgecolor='k')\n",
    "    axs[index].set_title(f\"{column} vs. GDP per Capita\", fontsize=8)\n",
    "    axs[index].set_xlabel(column)\n",
    "    axs[index].set_ylabel(\"GDP per Capita (US$)\")\n",
    "\n",
    "# Hide any unused axes\n",
    "for i in range(len(indicators), len(axs)):\n",
    "    fig.delaxes(axs[i])\n",
    "\n",
    "# Adjust layout\n",
    "plt.tight_layout()\n",
    "\n",
    "# Create the 'Visuals' directory if it doesn't exist\n",
    "output_dir = 'Visuals'\n",
    "if not os.path.exists(output_dir):\n",
    "    os.makedirs(output_dir)\n",
    "\n",
    "# Save the figure\n",
    "plt.savefig(os.path.join(output_dir, 'Correlation_plots.png'))  # Save as a PNG file\n",
    "plt.show()"
   ]
  },
  {
   "cell_type": "markdown",
   "metadata": {},
   "source": [
    "### **Analyzing the Scatter Plots**\n",
    "\n",
    "**Positive Correlations:** A number of the scatter plots show a positive correlation between GDP per capita and the development indicators, suggesting that as GDP per capita increases, these indicators tend to improve.\n",
    "\n",
    "**Scatter:** Some scatter plots exhibit a significant amount of scatter, indicating that while there may be a general trend, there are also exceptions and individual variations.\n",
    "\n",
    "**Outliers:** A few outliers can be observed in some plots, which might influence the overall correlation or trend.\n",
    "\n",
    "#### **Observations:**\n",
    "\n",
    "**Electricity Access:** There's a strong positive correlation between electricity access and GDP per capita, suggesting that there's link between electricity access and GDP per capita. Countries with higher GDPs generally have better access to electricity, showing how economic growth and reliable energy often go hand in hand.\n",
    "\n",
    "**Urban Population:** The correlation between urban population and GDP per capita is also positive, but there's more scatter/variation, this indicates that while urbanization often accompanies economic growth, the relationship is not always straightforward.\n",
    "\n",
    "**Life Expectancy:** A clear positive correlation exists between life expectancy and GDP per capita, suggesting that higher income levels are associated with better health and longer life. This is largely because wealthier countries can invest more in healthcare, providing better access to medical services. Improved income levels also lead to better living conditions, such as access to clean water, nutritious food, and sanitation, all of which contribute to healthier, longer lives.\n",
    "\n",
    "**Education:** The plots for primary, secondary, and tertiary school enrollment all show positive correlations with GDP per capita, suggesting that as economies grow, education levels tend to rise as well.\n",
    "\n",
    "**Women in Parliament:** The correlation between women in parliament and GDP per capita is positive but weaker, suggesting that while there's a trend towards greater female representation in government with economic development, the relationship is not as strong.\n",
    "\n",
    "**CO2 Emissions:** The plot for CO2 emissions and GDP per capita shows a positive correlation, indicating that higher levels of economic activity are often associated with increased greenhouse gas emissions.\n",
    "\n",
    "**Renewable Energy:** \n",
    "The correlation between renewable energy and GDP per capita is also positive, but there's more scatter, suggesting that while economic development can lead to increased investment in renewable energy, the relationship is not always consistent.\n",
    "\n",
    "\n",
    "#### **Weaker positive correlations**\n",
    "**Income Growth:** The scatter plot for income growth and GDP per capita shows a weaker positive correlation, with a lot more variation. This suggests that while higher GDP is generally linked to income growth, the relationship isn't as strong or consistent.\n",
    "\n",
    "#### **Negative correlations**\n",
    "**Children Out of School:** The plot for children out of school shows a negative correlation with GDP per capita, suggesting that fewer children are likely to be out of school in countries with higher incomes.\n",
    "\n",
    "#### **Other factors to consider:** \n",
    "While many of the scatter plots indicate a correlation between variables, it's crucial to remember that correlation doesn't imply causation. To truly understand the relationships at play, further analysis is needed to establish any causal links. Additionally, other factors beyond GDP per capita may influence these development indicators, including government policies, cultural influences, and historical contexts."
   ]
  },
  {
   "cell_type": "code",
   "execution_count": 454,
   "metadata": {},
   "outputs": [
    {
     "name": "stdout",
     "output_type": "stream",
     "text": [
      "Correlation of features with GDP per Capita (US$):\n",
      " GDP per Capita (US$)               1.00\n",
      "Urban Population (%)               0.59\n",
      "Life Expectancy (Years)            0.58\n",
      "Secondary School Enrollment (%)    0.50\n",
      "Electricity Access (%)             0.42\n",
      "Women in Parliament (%)            0.28\n",
      "CO2 Emissions (MT)                 0.11\n",
      "Income Growth (%)                 -0.03\n",
      "Primary School Enrollment (%)     -0.05\n",
      "Children Out of School (%)        -0.27\n",
      "Renewable Energy (%)              -0.36\n",
      "Name: GDP per Capita (US$), dtype: float64\n"
     ]
    },
    {
     "data": {
      "image/png": "[encoded data removed]",
      "text/plain": [
       "<Figure size 1000x800 with 2 Axes>"
      ]
     },
     "metadata": {},
     "output_type": "display_data"
    }
   ],
   "source": [
    "# Define the indicators as a list\n",
    "indicators = [\n",
    "    \"Electricity Access (%)\",\n",
    "    \"GDP per Capita (US$)\",\n",
    "    \"Urban Population (%)\",\n",
    "    \"Life Expectancy (Years)\",\n",
    "    \"Income Growth (%)\",\n",
    "    \"Primary School Enrollment (%)\",\n",
    "    \"Secondary School Enrollment (%)\",\n",
    "    \"Children Out of School (%)\",\n",
    "    \"Women in Parliament (%)\",\n",
    "    \"CO2 Emissions (MT)\",\n",
    "    \"Renewable Energy (%)\"\n",
    "]\n",
    "\n",
    "# Create a list of columns to correlate\n",
    "columns_to_correlate = indicators  # Use the 'indicators' list\n",
    "\n",
    "# Calculate the correlation matrix\n",
    "correlation_matrix = filtered_original_df[columns_to_correlate].corr()\n",
    "\n",
    "# Print the correlation with GDP per Capita\n",
    "correlation_with_target = round(correlation_matrix.loc[:, 'GDP per Capita (US$)'].sort_values(ascending=False), 2)\n",
    "print(\"Correlation of features with GDP per Capita (US$):\\n\", correlation_with_target)\n",
    "\n",
    "# Create a heatmap of the correlation matrix\n",
    "plt.figure(figsize=(10, 8))\n",
    "sns.heatmap(correlation_matrix, annot=True, fmt=\".2f\", cmap='coolwarm', \n",
    "            xticklabels=indicators, yticklabels=indicators, square=True)\n",
    "\n",
    "# Title and layout adjustments\n",
    "plt.title('Correlation Matrix Heatmap', fontsize=16)\n",
    "plt.tight_layout()\n",
    "\n",
    "# Save the figure\n",
    "plt.savefig('Visuals/Correlation_Heatmap.png')  # Save as a PNG file\n",
    "plt.show()  # Display the heatmap\n"
   ]
  },
  {
   "cell_type": "markdown",
   "metadata": {},
   "source": [
    "In this corrrelation matrix heatmap, it can be observed that "
   ]
  },
  {
   "cell_type": "markdown",
   "metadata": {},
   "source": [
    "Strong Positive Correlations: Several variables exhibit strong positive correlations, indicating that they tend to move in the same direction. For example, electricity access, GDP per capita, urban population, and life expectancy show strong positive correlations with each other.\n",
    "Strong Negative Correlations: Some variables have strong negative correlations, suggesting that they tend to move in opposite directions. For instance, children out of school and renewable energy have strong negative correlations with electricity access and GDP per capita.\n",
    "Moderate Correlations: Many other variables show moderate positive or negative correlations, indicating that there are relationships between them, but they are not as strong as the extreme cases."
   ]
  },
  {
   "cell_type": "markdown",
   "metadata": {},
   "source": [
    "---\n",
    "<a href=#six></a>\n",
    "## **Modeling**\n",
    "<a href=#cont>Back to Table of Contents</a>\n",
    "\n",
    "* **Purpose:** Develop and train predictive or statistical models.\n",
    "* **Details:** Describe the choice of models, feature selection and engineering processes, and show how the models are trained. Include code for setting up the models and explanations of the model parameters.\n",
    "---\n"
   ]
  },
  {
   "cell_type": "code",
   "execution_count": 448,
   "metadata": {},
   "outputs": [],
   "source": [
    "#Please use code cells to code in and do not forget to comment your code."
   ]
  },
  {
   "cell_type": "markdown",
   "metadata": {},
   "source": [
    "---\n",
    "<a href=#seven></a>\n",
    "## **Evaluation and Validation**\n",
    "<a href=#cont>Back to Table of Contents</a>\n",
    "\n",
    "* **Purpose:** Evaluate and validate the effectiveness and accuracy of the models.\n",
    "* **Details:** Present metrics used to evaluate the models, such as accuracy, precision, recall, F1-score, etc. Discuss validation techniques employed, such as cross-validation or train/test split.\n",
    "---"
   ]
  },
  {
   "cell_type": "code",
   "execution_count": 449,
   "metadata": {},
   "outputs": [],
   "source": [
    "#Please use code cells to code in and do not forget to comment your code."
   ]
  },
  {
   "cell_type": "markdown",
   "metadata": {},
   "source": [
    "---\n",
    "<a href=#eight></a>\n",
    "## **Final Model**\n",
    "<a href=#cont>Back to Table of Contents</a>\n",
    "\n",
    "* **Purpose:** Present the final model and its performance.\n",
    "* **Details:** Highlight the best-performing model and discuss its configuration, performance, and why it was chosen over others.\n",
    "---\n"
   ]
  },
  {
   "cell_type": "code",
   "execution_count": 450,
   "metadata": {},
   "outputs": [],
   "source": [
    "#Please use code cells to code in and do not forget to comment your code."
   ]
  },
  {
   "cell_type": "markdown",
   "metadata": {},
   "source": [
    "---\n",
    "<a href=#nine></a>\n",
    "## **Conclusion and Future Work**\n",
    "<a href=#cont>Back to Table of Contents</a>\n",
    "\n",
    "* **Purpose:** Summarize the findings and discuss future directions.\n",
    "* **Details:** Conclude with a summary of the results, insights gained, limitations of the study, and suggestions for future projects or improvements in methodology or data collection.\n",
    "---\n"
   ]
  },
  {
   "cell_type": "code",
   "execution_count": 451,
   "metadata": {},
   "outputs": [],
   "source": [
    "#Please use code cells to code in and do not forget to comment your code."
   ]
  },
  {
   "cell_type": "markdown",
   "metadata": {},
   "source": [
    "---\n",
    "<a href=#ten></a>\n",
    "## **References**\n",
    "<a href=#cont>Back to Table of Contents</a>\n",
    "\n",
    "* **Purpose:** Provide citations and sources of external content.\n",
    "* **Details:** List all the references and sources consulted during the project, including data sources, research papers, and documentation for tools and libraries used.\n",
    "---"
   ]
  },
  {
   "cell_type": "code",
   "execution_count": 452,
   "metadata": {},
   "outputs": [],
   "source": [
    "#Please use code cells to code in and do not forget to comment your code."
   ]
  },
  {
   "cell_type": "markdown",
   "metadata": {},
   "source": [
    "## Additional Sections to Consider\n",
    "\n",
    "* ### Appendix: \n",
    "For any additional code, detailed tables, or extended data visualizations that are supplementary to the main content.\n",
    "\n",
    "* ### Contributors: \n",
    "If this is a group project, list the contributors and their roles or contributions to the project.\n"
   ]
  }
 ],
 "metadata": {
  "kernelspec": {
   "display_name": "Python 3",
   "language": "python",
   "name": "python3"
  },
  "language_info": {
   "codemirror_mode": {
    "name": "ipython",
    "version": 3
   },
   "file_extension": ".py",
   "mimetype": "text/x-python",
   "name": "python",
   "nbconvert_exporter": "python",
   "pygments_lexer": "ipython3",
   "version": "3.11.5"
  },
  "orig_nbformat": 4
 },
 "nbformat": 4,
 "nbformat_minor": 2
}
